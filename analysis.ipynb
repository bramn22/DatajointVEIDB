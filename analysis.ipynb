{
 "cells": [
  {
   "cell_type": "code",
   "execution_count": 2,
   "metadata": {},
   "outputs": [
    {
     "name": "stdout",
     "output_type": "stream",
     "text": [
      "env: DJ_SUPPORT_FILEPATH_MANAGEMENT=TRUE\n",
      "Connecting root@10.86.1.219:3306\n"
     ]
    },
    {
     "ename": "OperationalError",
     "evalue": "(2003, \"Can't connect to MySQL server on '10.86.1.219' ([WinError 10061] No connection could be made because the target machine actively refused it)\")",
     "output_type": "error",
     "traceback": [
      "\u001b[1;31m----------------------------------------------------------------------\u001b[0m",
      "\u001b[1;31mConnectionRefusedError\u001b[0m               Traceback (most recent call last)",
      "\u001b[1;32mc:\\users\\bramn\\anaconda3\\envs\\analysis\\lib\\site-packages\\pymysql\\connections.py\u001b[0m in \u001b[0;36mconnect\u001b[1;34m(self, sock)\u001b[0m\n\u001b[0;32m    582\u001b[0m                                 \u001b[1;33m(\u001b[0m\u001b[0mself\u001b[0m\u001b[1;33m.\u001b[0m\u001b[0mhost\u001b[0m\u001b[1;33m,\u001b[0m \u001b[0mself\u001b[0m\u001b[1;33m.\u001b[0m\u001b[0mport\u001b[0m\u001b[1;33m)\u001b[0m\u001b[1;33m,\u001b[0m \u001b[0mself\u001b[0m\u001b[1;33m.\u001b[0m\u001b[0mconnect_timeout\u001b[0m\u001b[1;33m,\u001b[0m\u001b[1;33m\u001b[0m\u001b[1;33m\u001b[0m\u001b[0m\n\u001b[1;32m--> 583\u001b[1;33m                                 **kwargs)\n\u001b[0m\u001b[0;32m    584\u001b[0m                             \u001b[1;32mbreak\u001b[0m\u001b[1;33m\u001b[0m\u001b[1;33m\u001b[0m\u001b[0m\n",
      "\u001b[1;32mc:\\users\\bramn\\anaconda3\\envs\\analysis\\lib\\socket.py\u001b[0m in \u001b[0;36mcreate_connection\u001b[1;34m(address, timeout, source_address)\u001b[0m\n\u001b[0;32m    727\u001b[0m         \u001b[1;32mtry\u001b[0m\u001b[1;33m:\u001b[0m\u001b[1;33m\u001b[0m\u001b[1;33m\u001b[0m\u001b[0m\n\u001b[1;32m--> 728\u001b[1;33m             \u001b[1;32mraise\u001b[0m \u001b[0merr\u001b[0m\u001b[1;33m\u001b[0m\u001b[1;33m\u001b[0m\u001b[0m\n\u001b[0m\u001b[0;32m    729\u001b[0m         \u001b[1;32mfinally\u001b[0m\u001b[1;33m:\u001b[0m\u001b[1;33m\u001b[0m\u001b[1;33m\u001b[0m\u001b[0m\n",
      "\u001b[1;32mc:\\users\\bramn\\anaconda3\\envs\\analysis\\lib\\socket.py\u001b[0m in \u001b[0;36mcreate_connection\u001b[1;34m(address, timeout, source_address)\u001b[0m\n\u001b[0;32m    715\u001b[0m                 \u001b[0msock\u001b[0m\u001b[1;33m.\u001b[0m\u001b[0mbind\u001b[0m\u001b[1;33m(\u001b[0m\u001b[0msource_address\u001b[0m\u001b[1;33m)\u001b[0m\u001b[1;33m\u001b[0m\u001b[1;33m\u001b[0m\u001b[0m\n\u001b[1;32m--> 716\u001b[1;33m             \u001b[0msock\u001b[0m\u001b[1;33m.\u001b[0m\u001b[0mconnect\u001b[0m\u001b[1;33m(\u001b[0m\u001b[0msa\u001b[0m\u001b[1;33m)\u001b[0m\u001b[1;33m\u001b[0m\u001b[1;33m\u001b[0m\u001b[0m\n\u001b[0m\u001b[0;32m    717\u001b[0m             \u001b[1;31m# Break explicitly a reference cycle\u001b[0m\u001b[1;33m\u001b[0m\u001b[1;33m\u001b[0m\u001b[1;33m\u001b[0m\u001b[0m\n",
      "\u001b[1;31mConnectionRefusedError\u001b[0m: [WinError 10061] No connection could be made because the target machine actively refused it",
      "\nDuring handling of the above exception, another exception occurred:\n",
      "\u001b[1;31mOperationalError\u001b[0m                     Traceback (most recent call last)",
      "\u001b[1;32m<ipython-input-2-eb2115350de0>\u001b[0m in \u001b[0;36m<module>\u001b[1;34m\u001b[0m\n\u001b[0;32m     12\u001b[0m \u001b[1;31m# data_path = r\"Y:\\Data\"\u001b[0m\u001b[1;33m\u001b[0m\u001b[1;33m\u001b[0m\u001b[1;33m\u001b[0m\u001b[0m\n\u001b[0;32m     13\u001b[0m \u001b[0mdata_path\u001b[0m \u001b[1;33m=\u001b[0m\u001b[1;34mr\"V:\\Data/\"\u001b[0m\u001b[1;33m\u001b[0m\u001b[1;33m\u001b[0m\u001b[0m\n\u001b[1;32m---> 14\u001b[1;33m \u001b[0mft\u001b[0m \u001b[1;33m=\u001b[0m \u001b[0mmain\u001b[0m\u001b[1;33m.\u001b[0m\u001b[0mload\u001b[0m\u001b[1;33m(\u001b[0m\u001b[0mdrive_path\u001b[0m\u001b[1;33m,\u001b[0m \u001b[0mdata_path\u001b[0m\u001b[1;33m)\u001b[0m\u001b[1;33m\u001b[0m\u001b[1;33m\u001b[0m\u001b[0m\n\u001b[0m",
      "\u001b[1;32m~\\Documents\\Projects\\DatajointVEIDB\\main.py\u001b[0m in \u001b[0;36mload\u001b[1;34m(drive_path, data_path)\u001b[0m\n\u001b[0;32m      4\u001b[0m     \u001b[0mos\u001b[0m\u001b[1;33m.\u001b[0m\u001b[0menviron\u001b[0m\u001b[1;33m[\u001b[0m\u001b[1;34m\"DJ_DRIVE_PATH\"\u001b[0m\u001b[1;33m]\u001b[0m \u001b[1;33m=\u001b[0m \u001b[0mdrive_path\u001b[0m\u001b[1;33m\u001b[0m\u001b[1;33m\u001b[0m\u001b[0m\n\u001b[0;32m      5\u001b[0m     \u001b[0mos\u001b[0m\u001b[1;33m.\u001b[0m\u001b[0menviron\u001b[0m\u001b[1;33m[\u001b[0m\u001b[1;34m\"DATA_PATH\"\u001b[0m\u001b[1;33m]\u001b[0m \u001b[1;33m=\u001b[0m \u001b[0mdata_path\u001b[0m\u001b[1;33m\u001b[0m\u001b[1;33m\u001b[0m\u001b[0m\n\u001b[1;32m----> 6\u001b[1;33m     \u001b[1;32mimport\u001b[0m \u001b[0mmain_tables\u001b[0m \u001b[1;32mas\u001b[0m \u001b[0mmt\u001b[0m\u001b[1;33m\u001b[0m\u001b[1;33m\u001b[0m\u001b[0m\n\u001b[0m\u001b[0;32m      7\u001b[0m     \u001b[1;32mreturn\u001b[0m \u001b[0mmt\u001b[0m\u001b[1;33m\u001b[0m\u001b[1;33m\u001b[0m\u001b[0m\n",
      "\u001b[1;32m~\\Documents\\Projects\\DatajointVEIDB\\main_tables.py\u001b[0m in \u001b[0;36m<module>\u001b[1;34m\u001b[0m\n\u001b[0;32m     17\u001b[0m }\n\u001b[0;32m     18\u001b[0m \u001b[1;33m\u001b[0m\u001b[0m\n\u001b[1;32m---> 19\u001b[1;33m \u001b[0mschema\u001b[0m \u001b[1;33m=\u001b[0m \u001b[0mdj\u001b[0m\u001b[1;33m.\u001b[0m\u001b[0mschema\u001b[0m\u001b[1;33m(\u001b[0m\u001b[1;34m'VEIDB'\u001b[0m\u001b[1;33m,\u001b[0m \u001b[0mlocals\u001b[0m\u001b[1;33m(\u001b[0m\u001b[1;33m)\u001b[0m\u001b[1;33m)\u001b[0m\u001b[1;33m\u001b[0m\u001b[1;33m\u001b[0m\u001b[0m\n\u001b[0m\u001b[0;32m     20\u001b[0m \u001b[1;33m\u001b[0m\u001b[0m\n\u001b[0;32m     21\u001b[0m \u001b[1;33m\u001b[0m\u001b[0m\n",
      "\u001b[1;32mc:\\users\\bramn\\anaconda3\\envs\\analysis\\lib\\site-packages\\datajoint\\schemas.py\u001b[0m in \u001b[0;36m__init__\u001b[1;34m(self, schema_name, context, connection, create_schema, create_tables)\u001b[0m\n\u001b[0;32m     54\u001b[0m         \"\"\"\n\u001b[0;32m     55\u001b[0m         \u001b[1;32mif\u001b[0m \u001b[0mconnection\u001b[0m \u001b[1;32mis\u001b[0m \u001b[1;32mNone\u001b[0m\u001b[1;33m:\u001b[0m\u001b[1;33m\u001b[0m\u001b[1;33m\u001b[0m\u001b[0m\n\u001b[1;32m---> 56\u001b[1;33m             \u001b[0mconnection\u001b[0m \u001b[1;33m=\u001b[0m \u001b[0mconn\u001b[0m\u001b[1;33m(\u001b[0m\u001b[1;33m)\u001b[0m\u001b[1;33m\u001b[0m\u001b[1;33m\u001b[0m\u001b[0m\n\u001b[0m\u001b[0;32m     57\u001b[0m         \u001b[0mself\u001b[0m\u001b[1;33m.\u001b[0m\u001b[0m_log\u001b[0m \u001b[1;33m=\u001b[0m \u001b[1;32mNone\u001b[0m\u001b[1;33m\u001b[0m\u001b[1;33m\u001b[0m\u001b[0m\n\u001b[0;32m     58\u001b[0m \u001b[1;33m\u001b[0m\u001b[0m\n",
      "\u001b[1;32mc:\\users\\bramn\\anaconda3\\envs\\analysis\\lib\\site-packages\\datajoint\\connection.py\u001b[0m in \u001b[0;36mconn\u001b[1;34m(host, user, password, init_fun, reset, use_tls)\u001b[0m\n\u001b[0;32m     86\u001b[0m         \u001b[0minit_fun\u001b[0m \u001b[1;33m=\u001b[0m \u001b[0minit_fun\u001b[0m \u001b[1;32mif\u001b[0m \u001b[0minit_fun\u001b[0m \u001b[1;32mis\u001b[0m \u001b[1;32mnot\u001b[0m \u001b[1;32mNone\u001b[0m \u001b[1;32melse\u001b[0m \u001b[0mconfig\u001b[0m\u001b[1;33m[\u001b[0m\u001b[1;34m'connection.init_function'\u001b[0m\u001b[1;33m]\u001b[0m\u001b[1;33m\u001b[0m\u001b[1;33m\u001b[0m\u001b[0m\n\u001b[0;32m     87\u001b[0m         \u001b[0muse_tls\u001b[0m \u001b[1;33m=\u001b[0m \u001b[0muse_tls\u001b[0m \u001b[1;32mif\u001b[0m \u001b[0muse_tls\u001b[0m \u001b[1;32mis\u001b[0m \u001b[1;32mnot\u001b[0m \u001b[1;32mNone\u001b[0m \u001b[1;32melse\u001b[0m \u001b[0mconfig\u001b[0m\u001b[1;33m[\u001b[0m\u001b[1;34m'database.use_tls'\u001b[0m\u001b[1;33m]\u001b[0m\u001b[1;33m\u001b[0m\u001b[1;33m\u001b[0m\u001b[0m\n\u001b[1;32m---> 88\u001b[1;33m         \u001b[0mconn\u001b[0m\u001b[1;33m.\u001b[0m\u001b[0mconnection\u001b[0m \u001b[1;33m=\u001b[0m \u001b[0mConnection\u001b[0m\u001b[1;33m(\u001b[0m\u001b[0mhost\u001b[0m\u001b[1;33m,\u001b[0m \u001b[0muser\u001b[0m\u001b[1;33m,\u001b[0m \u001b[0mpassword\u001b[0m\u001b[1;33m,\u001b[0m \u001b[1;32mNone\u001b[0m\u001b[1;33m,\u001b[0m \u001b[0minit_fun\u001b[0m\u001b[1;33m,\u001b[0m \u001b[0muse_tls\u001b[0m\u001b[1;33m)\u001b[0m\u001b[1;33m\u001b[0m\u001b[1;33m\u001b[0m\u001b[0m\n\u001b[0m\u001b[0;32m     89\u001b[0m     \u001b[1;32mreturn\u001b[0m \u001b[0mconn\u001b[0m\u001b[1;33m.\u001b[0m\u001b[0mconnection\u001b[0m\u001b[1;33m\u001b[0m\u001b[1;33m\u001b[0m\u001b[0m\n\u001b[0;32m     90\u001b[0m \u001b[1;33m\u001b[0m\u001b[0m\n",
      "\u001b[1;32mc:\\users\\bramn\\anaconda3\\envs\\analysis\\lib\\site-packages\\datajoint\\connection.py\u001b[0m in \u001b[0;36m__init__\u001b[1;34m(self, host, user, password, port, init_fun, use_tls)\u001b[0m\n\u001b[0;32m    119\u001b[0m         \u001b[0mprint\u001b[0m\u001b[1;33m(\u001b[0m\u001b[1;34m\"Connecting {user}@{host}:{port}\"\u001b[0m\u001b[1;33m.\u001b[0m\u001b[0mformat\u001b[0m\u001b[1;33m(\u001b[0m\u001b[1;33m**\u001b[0m\u001b[0mself\u001b[0m\u001b[1;33m.\u001b[0m\u001b[0mconn_info\u001b[0m\u001b[1;33m)\u001b[0m\u001b[1;33m)\u001b[0m\u001b[1;33m\u001b[0m\u001b[1;33m\u001b[0m\u001b[0m\n\u001b[0;32m    120\u001b[0m         \u001b[0mself\u001b[0m\u001b[1;33m.\u001b[0m\u001b[0m_conn\u001b[0m \u001b[1;33m=\u001b[0m \u001b[1;32mNone\u001b[0m\u001b[1;33m\u001b[0m\u001b[1;33m\u001b[0m\u001b[0m\n\u001b[1;32m--> 121\u001b[1;33m         \u001b[0mself\u001b[0m\u001b[1;33m.\u001b[0m\u001b[0mconnect\u001b[0m\u001b[1;33m(\u001b[0m\u001b[1;33m)\u001b[0m\u001b[1;33m\u001b[0m\u001b[1;33m\u001b[0m\u001b[0m\n\u001b[0m\u001b[0;32m    122\u001b[0m         \u001b[1;32mif\u001b[0m \u001b[0mself\u001b[0m\u001b[1;33m.\u001b[0m\u001b[0mis_connected\u001b[0m\u001b[1;33m:\u001b[0m\u001b[1;33m\u001b[0m\u001b[1;33m\u001b[0m\u001b[0m\n\u001b[0;32m    123\u001b[0m             \u001b[0mlogger\u001b[0m\u001b[1;33m.\u001b[0m\u001b[0minfo\u001b[0m\u001b[1;33m(\u001b[0m\u001b[1;34m\"Connected {user}@{host}:{port}\"\u001b[0m\u001b[1;33m.\u001b[0m\u001b[0mformat\u001b[0m\u001b[1;33m(\u001b[0m\u001b[1;33m**\u001b[0m\u001b[0mself\u001b[0m\u001b[1;33m.\u001b[0m\u001b[0mconn_info\u001b[0m\u001b[1;33m)\u001b[0m\u001b[1;33m)\u001b[0m\u001b[1;33m\u001b[0m\u001b[1;33m\u001b[0m\u001b[0m\n",
      "\u001b[1;32mc:\\users\\bramn\\anaconda3\\envs\\analysis\\lib\\site-packages\\datajoint\\connection.py\u001b[0m in \u001b[0;36mconnect\u001b[1;34m(self)\u001b[0m\n\u001b[0;32m    149\u001b[0m                              \u001b[1;34m\"STRICT_ALL_TABLES,NO_ENGINE_SUBSTITUTION\"\u001b[0m\u001b[1;33m,\u001b[0m\u001b[1;33m\u001b[0m\u001b[1;33m\u001b[0m\u001b[0m\n\u001b[0;32m    150\u001b[0m                     \u001b[0mcharset\u001b[0m\u001b[1;33m=\u001b[0m\u001b[0mconfig\u001b[0m\u001b[1;33m[\u001b[0m\u001b[1;34m'connection.charset'\u001b[0m\u001b[1;33m]\u001b[0m\u001b[1;33m,\u001b[0m\u001b[1;33m\u001b[0m\u001b[1;33m\u001b[0m\u001b[0m\n\u001b[1;32m--> 151\u001b[1;33m                     **{k: v for k, v in self.conn_info.items()\n\u001b[0m\u001b[0;32m    152\u001b[0m                        if k != 'ssl_input'})\n\u001b[0;32m    153\u001b[0m             \u001b[1;32mexcept\u001b[0m \u001b[0mclient\u001b[0m\u001b[1;33m.\u001b[0m\u001b[0merr\u001b[0m\u001b[1;33m.\u001b[0m\u001b[0mInternalError\u001b[0m\u001b[1;33m:\u001b[0m\u001b[1;33m\u001b[0m\u001b[1;33m\u001b[0m\u001b[0m\n",
      "\u001b[1;32mc:\\users\\bramn\\anaconda3\\envs\\analysis\\lib\\site-packages\\pymysql\\__init__.py\u001b[0m in \u001b[0;36mConnect\u001b[1;34m(*args, **kwargs)\u001b[0m\n\u001b[0;32m     92\u001b[0m     \"\"\"\n\u001b[0;32m     93\u001b[0m     \u001b[1;32mfrom\u001b[0m \u001b[1;33m.\u001b[0m\u001b[0mconnections\u001b[0m \u001b[1;32mimport\u001b[0m \u001b[0mConnection\u001b[0m\u001b[1;33m\u001b[0m\u001b[1;33m\u001b[0m\u001b[0m\n\u001b[1;32m---> 94\u001b[1;33m     \u001b[1;32mreturn\u001b[0m \u001b[0mConnection\u001b[0m\u001b[1;33m(\u001b[0m\u001b[1;33m*\u001b[0m\u001b[0margs\u001b[0m\u001b[1;33m,\u001b[0m \u001b[1;33m**\u001b[0m\u001b[0mkwargs\u001b[0m\u001b[1;33m)\u001b[0m\u001b[1;33m\u001b[0m\u001b[1;33m\u001b[0m\u001b[0m\n\u001b[0m\u001b[0;32m     95\u001b[0m \u001b[1;33m\u001b[0m\u001b[0m\n\u001b[0;32m     96\u001b[0m \u001b[1;32mfrom\u001b[0m \u001b[1;33m.\u001b[0m \u001b[1;32mimport\u001b[0m \u001b[0mconnections\u001b[0m \u001b[1;32mas\u001b[0m \u001b[0m_orig_conn\u001b[0m\u001b[1;33m\u001b[0m\u001b[1;33m\u001b[0m\u001b[0m\n",
      "\u001b[1;32mc:\\users\\bramn\\anaconda3\\envs\\analysis\\lib\\site-packages\\pymysql\\connections.py\u001b[0m in \u001b[0;36m__init__\u001b[1;34m(self, host, user, password, database, port, unix_socket, charset, sql_mode, read_default_file, conv, use_unicode, client_flag, cursorclass, init_command, connect_timeout, ssl, read_default_group, compress, named_pipe, autocommit, db, passwd, local_infile, max_allowed_packet, defer_connect, auth_plugin_map, read_timeout, write_timeout, bind_address, binary_prefix, program_name, server_public_key)\u001b[0m\n\u001b[0;32m    323\u001b[0m             \u001b[0mself\u001b[0m\u001b[1;33m.\u001b[0m\u001b[0m_sock\u001b[0m \u001b[1;33m=\u001b[0m \u001b[1;32mNone\u001b[0m\u001b[1;33m\u001b[0m\u001b[1;33m\u001b[0m\u001b[0m\n\u001b[0;32m    324\u001b[0m         \u001b[1;32melse\u001b[0m\u001b[1;33m:\u001b[0m\u001b[1;33m\u001b[0m\u001b[1;33m\u001b[0m\u001b[0m\n\u001b[1;32m--> 325\u001b[1;33m             \u001b[0mself\u001b[0m\u001b[1;33m.\u001b[0m\u001b[0mconnect\u001b[0m\u001b[1;33m(\u001b[0m\u001b[1;33m)\u001b[0m\u001b[1;33m\u001b[0m\u001b[1;33m\u001b[0m\u001b[0m\n\u001b[0m\u001b[0;32m    326\u001b[0m \u001b[1;33m\u001b[0m\u001b[0m\n\u001b[0;32m    327\u001b[0m     \u001b[1;32mdef\u001b[0m \u001b[0m_create_ssl_ctx\u001b[0m\u001b[1;33m(\u001b[0m\u001b[0mself\u001b[0m\u001b[1;33m,\u001b[0m \u001b[0msslp\u001b[0m\u001b[1;33m)\u001b[0m\u001b[1;33m:\u001b[0m\u001b[1;33m\u001b[0m\u001b[1;33m\u001b[0m\u001b[0m\n",
      "\u001b[1;32mc:\\users\\bramn\\anaconda3\\envs\\analysis\\lib\\site-packages\\pymysql\\connections.py\u001b[0m in \u001b[0;36mconnect\u001b[1;34m(self, sock)\u001b[0m\n\u001b[0;32m    628\u001b[0m                 \u001b[0mexc\u001b[0m\u001b[1;33m.\u001b[0m\u001b[0mtraceback\u001b[0m \u001b[1;33m=\u001b[0m \u001b[0mtraceback\u001b[0m\u001b[1;33m.\u001b[0m\u001b[0mformat_exc\u001b[0m\u001b[1;33m(\u001b[0m\u001b[1;33m)\u001b[0m\u001b[1;33m\u001b[0m\u001b[1;33m\u001b[0m\u001b[0m\n\u001b[0;32m    629\u001b[0m                 \u001b[1;32mif\u001b[0m \u001b[0mDEBUG\u001b[0m\u001b[1;33m:\u001b[0m \u001b[0mprint\u001b[0m\u001b[1;33m(\u001b[0m\u001b[0mexc\u001b[0m\u001b[1;33m.\u001b[0m\u001b[0mtraceback\u001b[0m\u001b[1;33m)\u001b[0m\u001b[1;33m\u001b[0m\u001b[1;33m\u001b[0m\u001b[0m\n\u001b[1;32m--> 630\u001b[1;33m                 \u001b[1;32mraise\u001b[0m \u001b[0mexc\u001b[0m\u001b[1;33m\u001b[0m\u001b[1;33m\u001b[0m\u001b[0m\n\u001b[0m\u001b[0;32m    631\u001b[0m \u001b[1;33m\u001b[0m\u001b[0m\n\u001b[0;32m    632\u001b[0m             \u001b[1;31m# If e is neither DatabaseError or IOError, It's a bug.\u001b[0m\u001b[1;33m\u001b[0m\u001b[1;33m\u001b[0m\u001b[1;33m\u001b[0m\u001b[0m\n",
      "\u001b[1;31mOperationalError\u001b[0m: (2003, \"Can't connect to MySQL server on '10.86.1.219' ([WinError 10061] No connection could be made because the target machine actively refused it)\")"
     ]
    }
   ],
   "source": [
    "import pandas as pd\n",
    "import datajoint as dj\n",
    "dj.config['database.host'] = '10.86.1.219'\n",
    "dj.config['database.user'] = 'root'\n",
    "dj.config['database.password'] = 'retina'\n",
    "dj.config[\"enable_python_native_blobs\"] = True # Only for testing in dj0.12 (https://github.com/datajoint/datajoint-python#python-native-blobs)\n",
    "\n",
    "%env DJ_SUPPORT_FILEPATH_MANAGEMENT=TRUE\n",
    "\n",
    "import main\n",
    "drive_path = r\"\\\\NERFHF01/djnerf1/VEIDB/\"\n",
    "# data_path = r\"Y:\\Data\"\n",
    "data_path =r\"V:\\Data/\"\n",
    "ft = main.load(drive_path, data_path)"
   ]
  },
  {
   "cell_type": "code",
   "execution_count": null,
   "metadata": {},
   "outputs": [],
   "source": [
    "from datetime import date\n",
    "import matplotlib.pyplot as plt\n",
    "import numpy as np\n",
    "import seaborn as sb\n",
    "sb.set_style('dark')"
   ]
  },
  {
   "cell_type": "code",
   "execution_count": null,
   "metadata": {},
   "outputs": [],
   "source": [
    "print(dj.list_schemas())\n",
    "dj.Di(ft.schema)"
   ]
  },
  {
   "cell_type": "code",
   "execution_count": null,
   "metadata": {},
   "outputs": [],
   "source": [
    "exp_table = ft.Experiment()\n",
    "sess_table = ft.Session()\n",
    "mouse_table = ft.Mouse()\n",
    "trialgroup_table = ft.TrialGroup()\n",
    "raw_table = ft.ephys_tables.EphysRaw()\n",
    "sorted_table = ft.ephys_tables.SpikeSorted()\n",
    "tg_events_table = ft.event_tables.TrialGroupEvents()\n",
    "tg_spikes_tables = ft.ephys_tables.TrialGroupSpikes()"
   ]
  },
  {
   "cell_type": "code",
   "execution_count": 52,
   "metadata": {},
   "outputs": [],
   "source": [
    "key = {'experiment_id': '01437', 'session_id': '20201214b', 'trialgroup_id': 'EXD2_0001'}\n",
    "clusters, cluster_annot = (tg_spikes_tables & key).fetch1('clusters', 'cluster_annot')\n",
    "stims_start, stim_triggers = (tg_events_table & key).fetch1('stims_start', 'stim_triggers')"
   ]
  },
  {
   "cell_type": "code",
   "execution_count": 53,
   "metadata": {},
   "outputs": [
    {
     "name": "stdout",
     "output_type": "stream",
     "text": [
      "229\n",
      "749\n"
     ]
    }
   ],
   "source": [
    "print(len([annot for annot in list(cluster_annot.values()) if annot == 'good']))\n",
    "print(len(cluster_annot))"
   ]
  },
  {
   "cell_type": "code",
   "execution_count": 54,
   "metadata": {},
   "outputs": [],
   "source": [
    "for c in clusters.keys():\n",
    "    clusters[c] = clusters[c][clusters[c] >= stims_start]\n",
    "    clusters[c] = clusters[c] - stims_start\n",
    "stim_triggers = stim_triggers - stims_start"
   ]
  },
  {
   "cell_type": "code",
   "execution_count": 55,
   "metadata": {},
   "outputs": [
    {
     "data": {
      "text/plain": [
       "array([   33403,    33935,    43430,    58936,   104435,   113928,\n",
       "         129435,   174935,   184429,   199934,   245435,   254929,\n",
       "         270435,   315511,  7035688,  7036400,  7045894,  7061399,\n",
       "        7106899,  7116394,  7131891,  7177402,  7186893,  7202393,\n",
       "        7247898,  7257393,  7272898,  7317994, 13168146, 19018314,\n",
       "       19018838, 19028331, 19043838, 19089336, 19098832, 19114336,\n",
       "       19159837, 19169331, 19184837, 19230336, 19239831, 19255336,\n",
       "       19300412, 26290593, 26290799, 26300294, 26315800, 26361299,\n",
       "       26370794, 26386299, 26431799, 26441293, 26456799, 26502298,\n",
       "       26511793, 26527299, 26572376, 32272538, 32272769, 32282263,\n",
       "       32297769, 32343268, 32352764, 32368268, 32413767, 32423263,\n",
       "       32438768, 32484271, 32493762, 32509268, 32554345, 37414500,\n",
       "       37415243, 37424737, 37440242, 37485742, 37495236, 37510737,\n",
       "       37556241, 37565740, 37581241, 37626740, 37636236, 37651741,\n",
       "       37696836, 43816989, 50447166, 50447674, 50457178, 50472675,\n",
       "       50518174, 50527668, 50543175, 50588674, 50598168, 50613669,\n",
       "       50659173, 50668668, 50684173, 50729250, 56969421, 56970142,\n",
       "       56979639, 56995141, 57040640, 57050135, 57065640, 57111140,\n",
       "       57120635, 57136141, 57181640, 57191134, 57206640, 57251734,\n",
       "       61451864, 67182029, 67182592, 67192082, 67207589, 67253088,\n",
       "       67262582, 67278088, 67323587, 67333090, 67348588, 67394088,\n",
       "       67403581, 67419087, 67464164, 74514345, 74514550, 74524044,\n",
       "       74539550, 74585048, 74594545, 74610049, 74655550, 74665043,\n",
       "       74680545, 74726050, 74735544, 74751050, 74796127, 80316288],\n",
       "      dtype=int64)"
      ]
     },
     "execution_count": 55,
     "metadata": {},
     "output_type": "execute_result"
    }
   ],
   "source": [
    "stim_triggers"
   ]
  },
  {
   "cell_type": "code",
   "execution_count": 72,
   "metadata": {},
   "outputs": [
    {
     "name": "stdout",
     "output_type": "stream",
     "text": [
      "229\n"
     ]
    },
    {
     "data": {
      "image/png": "[encoded data removed]",
      "text/plain": [
       "<Figure size 936x504 with 1 Axes>"
      ]
     },
     "metadata": {},
     "output_type": "display_data"
    }
   ],
   "source": [
    "data = []\n",
    "\n",
    "for c in cluster_annot:\n",
    "    if cluster_annot[c] == 'good':\n",
    "        data.append((c, clusters.get(c)))\n",
    "fig, ax = plt.subplots(figsize=(13, 7))\n",
    "print(len(data))\n",
    "for i, (cluster, cl_spike_times) in enumerate(data[:]):\n",
    "    if cl_spike_times is not None and isinstance(cl_spike_times, np.ndarray):\n",
    "#         fr, _ = np.histogram(cl_spike_times, bins=np.arange(0, np.array(cl_spike_times)[-1], 30*50))\n",
    "#         plt.plot(fr*10+cluster)\n",
    "        ax.scatter(np.array(cl_spike_times)/30000, np.ones_like(cl_spike_times)*cluster*1, marker='|', c='k') # SCATTER PLOT\n",
    "\n",
    "# ax.axvline(stimgroup_start/30000, ymin=0, ymax=1, c='b', alpha=1)  \n",
    "for trigger in stim_triggers:\n",
    "    ax.axvline(trigger/30000, ymin=0, ymax=1, c='r', alpha=0.8) # FOR SCATTER PLOT SET DIVIDOR TO 30000\n",
    "#     ax.axvline(trigger/(30*50), ymin=0, ymax=1, c='r')\n",
    "\n",
    "# plt.xlim(2,16)\n",
    "plt.yticks([])\n",
    "plt.xlim(430, 450)\n",
    "# plt.xlabel('time')\n",
    "# plt.ylabel('neurons')\n",
    "# plt.savefig('spikes_SC.png', dpi=200)\n",
    "plt.show()"
   ]
  },
  {
   "cell_type": "code",
   "execution_count": 20,
   "metadata": {},
   "outputs": [
    {
     "data": {
      "text/plain": [
       "dict_values(['mua', 'mua', 'mua', 'mua', 'mua', 'mua', 'mua', 'good', 'mua', 'good', 'mua', 'mua', 'mua', 'mua', 'mua', 'mua', 'mua', 'mua', 'mua', 'good', 'mua', 'mua', 'mua', 'mua', 'good', 'mua', 'mua', 'mua', 'mua', 'good', 'good', 'mua', 'mua', 'mua', 'mua', 'mua', 'mua', 'mua', 'mua', 'mua', 'good', 'good', 'good', 'good', 'mua', 'good', 'mua', 'mua', 'mua', 'mua', 'mua', 'mua', 'mua', 'mua', 'mua', 'mua', 'mua', 'good', 'mua', 'mua', 'good', 'mua', 'mua', 'mua', 'mua', 'mua', 'mua', 'mua', 'mua', 'mua', 'mua', 'mua', 'mua', 'good', 'good', 'good', 'good', 'mua', 'mua', 'good', 'mua', 'mua', 'mua', 'mua', 'mua', 'mua', 'mua', 'good', 'mua', 'mua', 'mua', 'good', 'mua', 'good', 'good', 'good', 'mua', 'mua', 'mua', 'mua', 'mua', 'mua', 'mua', 'mua', 'mua', 'mua', 'mua', 'mua', 'good', 'good', 'good', 'mua', 'mua', 'good', 'mua', 'good', 'mua', 'mua', 'mua', 'mua', 'good', 'mua', 'good', 'mua', 'mua', 'mua', 'mua', 'mua', 'mua', 'mua', 'mua', 'mua', 'good', 'mua', 'mua', 'mua', 'mua', 'mua', 'mua', 'mua', 'mua', 'mua', 'good', 'mua', 'mua', 'mua', 'good', 'mua', 'mua', 'mua', 'good', 'mua', 'mua', 'mua', 'mua', 'good', 'good', 'mua', 'mua', 'good', 'mua', 'good', 'mua', 'mua', 'mua', 'mua', 'mua', 'mua', 'mua', 'good', 'mua', 'mua', 'good', 'mua', 'good', 'good', 'good', 'good', 'mua', 'mua', 'mua', 'mua', 'good', 'mua', 'good', 'mua', 'good', 'mua', 'mua', 'good', 'mua', 'good', 'mua', 'good', 'mua', 'noise', 'good', 'mua', 'good', 'good', 'mua', 'mua', 'good', 'mua', 'mua', 'mua', 'mua', 'mua', 'good', 'good', 'mua', 'good', 'good', 'good', 'mua', 'good', 'good', 'good', 'good', 'mua', 'good', 'mua', 'mua', 'good', 'mua', 'mua', 'mua', 'mua', 'good', 'mua', 'good', 'mua', 'mua', 'good', 'mua', 'good', 'noise', 'mua', 'good', 'mua', 'mua', 'mua', 'good', 'good', 'mua', 'mua', 'good', 'mua', 'good', 'mua', 'mua', 'mua', 'good', 'good', 'mua', 'good', 'mua', 'mua', 'good', 'good', 'good', 'mua', 'good', 'good', 'mua', 'mua', 'mua', 'good', 'good', 'mua', 'mua', 'good', 'good', 'mua', 'good', 'mua', 'mua', 'mua', 'mua', 'good', 'mua', 'good', 'good', 'good', 'mua', 'mua', 'good', 'good', 'mua', 'noise', 'mua', 'good', 'good', 'good', 'good', 'good', 'good', 'mua', 'mua', 'good', 'good', 'good', 'good', 'mua', 'good', 'good', 'good', 'good', 'mua', 'mua', 'good', 'mua', 'mua', 'good', 'good', 'mua', 'mua', 'mua', 'mua', 'mua', 'good', 'mua', 'mua', 'mua', 'mua', 'good', 'good', 'mua', 'good', 'noise', 'noise', 'mua', 'mua', 'noise', 'good', 'mua', 'mua', 'mua', 'good', 'good', 'mua', 'noise', 'good', 'mua', 'good', 'mua', 'mua', 'mua', 'good', 'mua', 'mua', 'good', 'mua', 'good', 'good', 'good', 'mua', 'mua', 'mua', 'good', 'good', 'mua', 'good', 'mua', 'mua', 'mua', 'good', 'noise', 'mua', 'noise', 'mua', 'mua', 'mua', 'mua', 'good', 'good', 'good', 'noise', 'mua', 'mua', 'mua', 'mua', 'mua', 'mua', 'noise', 'noise', 'noise', 'mua', 'good', 'noise', 'mua', 'mua', 'mua', 'mua', 'mua', 'mua', 'mua', 'mua', 'mua', 'mua', 'mua', 'good', 'noise', 'mua', 'good', 'mua', 'mua', 'mua', 'mua', 'mua', 'mua', 'good', 'good', 'mua', 'mua', 'mua', 'mua', 'noise', 'mua', 'good', 'mua', 'mua', 'mua', 'mua', 'mua', 'good', 'mua', 'mua', 'mua', 'mua', 'good', 'good', 'good', 'good', 'mua', 'mua', 'mua', 'mua', 'mua', 'good', 'mua', 'mua', 'mua', 'good', 'good', 'mua', 'mua', 'mua', 'good', 'mua', 'mua', 'good', 'mua', 'good', 'good', 'good', 'good', 'good', 'mua', 'mua', 'mua', 'noise', 'noise', 'mua', 'mua', 'good', 'mua', 'mua', 'mua', 'good', 'mua', 'good', 'good', 'mua', 'mua', 'mua', 'good', 'mua', 'mua', 'good', 'mua', 'mua', 'mua', 'mua', 'mua', 'mua', 'mua', 'mua', 'noise', 'mua', 'good', 'mua', 'mua', 'good', 'mua', 'mua', 'mua', 'good', 'mua', 'mua', 'good', 'mua', 'good', 'mua', 'mua', 'mua', 'mua', 'mua', 'mua', 'good', 'mua', 'mua', 'good', 'good', 'good', 'mua', 'mua', 'mua', 'good', 'mua', 'mua', 'mua', 'mua', 'good', 'mua', 'good', 'good', 'mua', 'mua', 'good', 'mua', 'mua', 'mua', 'mua', 'mua', 'mua', 'good', 'mua', 'good', 'mua', 'mua', 'mua', 'good', 'mua', 'good', 'mua', 'mua', 'good', 'good', 'mua', 'mua', 'mua', 'mua', 'mua', 'noise', 'mua', 'noise', 'mua', 'mua', 'mua', 'mua', 'mua', 'mua', 'mua', 'mua', 'mua', 'good', 'mua', 'mua', 'good', 'mua', 'mua', 'mua', 'noise', 'mua', 'mua', 'mua', 'mua', 'mua', 'mua', 'mua', 'mua', 'mua', 'mua', 'mua', 'good', 'noise', 'good', 'mua', 'mua', 'mua', 'mua', 'mua', 'mua', 'mua', 'good', 'good', 'mua', 'mua', 'mua', 'mua', 'mua', 'noise', 'mua', 'mua', 'noise', 'mua', 'mua', 'noise', 'noise', 'noise', 'mua', 'mua', 'mua', 'noise', 'mua', 'mua', 'mua', 'mua', 'noise', 'mua', 'good', 'mua', 'mua', 'noise', 'mua', 'mua', 'noise', 'mua', 'mua', 'mua', 'noise', 'mua', 'mua', 'noise', 'mua', 'noise', 'mua', 'mua', 'mua', 'mua', 'noise', 'mua', 'mua', 'good', 'mua', 'mua', 'mua', 'mua', 'mua', 'mua', 'good', 'mua', 'good', 'mua', 'mua', 'good', 'good', 'mua', 'noise', 'good', 'mua', 'mua', 'mua', 'good', 'mua', 'good', 'mua', 'mua', 'noise', 'mua', 'mua', 'mua', 'mua', 'good', 'mua', 'noise', 'good', 'good', 'mua', 'good', 'noise', 'noise', 'noise', 'mua', 'good', 'noise', 'mua', 'good', 'good', 'mua', 'mua', 'mua', 'mua', 'good', 'mua', 'good', 'good', 'mua', 'good', 'mua', 'mua', 'mua', 'noise', 'good', 'mua', 'good', 'mua', 'good', 'good', 'mua', 'good', 'noise', 'noise', 'mua', 'good', 'mua', 'mua', 'noise', 'mua', 'mua', 'good', 'good', 'good', 'mua', 'mua', 'mua', 'mua', 'good', 'good', 'mua', 'mua', 'good', 'noise', 'mua', 'mua', 'good', 'good', 'good', 'good', 'good', 'good', 'good', 'good', 'good', 'good', 'good', 'good', 'good'])"
      ]
     },
     "execution_count": 20,
     "metadata": {},
     "output_type": "execute_result"
    }
   ],
   "source": [
    "cluster_annot.values()"
   ]
  },
  {
   "cell_type": "code",
   "execution_count": 1,
   "metadata": {},
   "outputs": [
    {
     "ename": "NameError",
     "evalue": "name 'spike_times' is not defined",
     "output_type": "error",
     "traceback": [
      "\u001b[1;31m----------------------------------------------------------------------\u001b[0m",
      "\u001b[1;31mNameError\u001b[0m                            Traceback (most recent call last)",
      "\u001b[1;32m<ipython-input-1-50ee3df1df3e>\u001b[0m in \u001b[0;36m<module>\u001b[1;34m\u001b[0m\n\u001b[1;32m----> 1\u001b[1;33m \u001b[0mspike_times\u001b[0m\u001b[1;33m.\u001b[0m\u001b[0mshape\u001b[0m\u001b[1;33m\u001b[0m\u001b[1;33m\u001b[0m\u001b[0m\n\u001b[0m",
      "\u001b[1;31mNameError\u001b[0m: name 'spike_times' is not defined"
     ]
    }
   ],
   "source": [
    "spike_times.shape"
   ]
  },
  {
   "cell_type": "code",
   "execution_count": 5,
   "metadata": {},
   "outputs": [
    {
     "name": "stdout",
     "output_type": "stream",
     "text": [
      "Populated a trial for 20201214b in 01437\n",
      "Error occurred when loading events end. index 0 is out of bounds for axis 0 with size 0\n",
      "Populated a trial for 20201214b in 01437\n",
      "Populated a trial for 20201214b in 01437\n",
      "Error occurred when loading events end. index 0 is out of bounds for axis 0 with size 0\n",
      "Populated a trial for 20201214b in 01437\n"
     ]
    }
   ],
   "source": [
    "events_table.populate()"
   ]
  },
  {
   "cell_type": "code",
   "execution_count": 74,
   "metadata": {},
   "outputs": [
    {
     "data": {
      "text/html": [
       "\n",
       "        \n",
       "        <style type=\"text/css\">\n",
       "            .Relation{\n",
       "                border-collapse:collapse;\n",
       "            }\n",
       "            .Relation th{\n",
       "                background: #A0A0A0; color: #ffffff; padding:4px; border:#f0e0e0 1px solid;\n",
       "                font-weight: normal; font-family: monospace; font-size: 100%;\n",
       "            }\n",
       "            .Relation td{\n",
       "                padding:4px; border:#f0e0e0 1px solid; font-size:100%;\n",
       "            }\n",
       "            .Relation tr:nth-child(odd){\n",
       "                background: #ffffff;\n",
       "            }\n",
       "            .Relation tr:nth-child(even){\n",
       "                background: #f3f1ff;\n",
       "            }\n",
       "            /* Tooltip container */\n",
       "            .djtooltip {\n",
       "            }\n",
       "            /* Tooltip text */\n",
       "            .djtooltip .djtooltiptext {\n",
       "                visibility: hidden;\n",
       "                width: 120px;\n",
       "                background-color: black;\n",
       "                color: #fff;\n",
       "                text-align: center;\n",
       "                padding: 5px 0;\n",
       "                border-radius: 6px;\n",
       "                /* Position the tooltip text - see examples below! */\n",
       "                position: absolute;\n",
       "                z-index: 1;\n",
       "            }\n",
       "            #primary {\n",
       "                font-weight: bold;\n",
       "                color: black;\n",
       "            }\n",
       "\n",
       "            #nonprimary {\n",
       "                font-weight: normal;\n",
       "                color: white;\n",
       "            }\n",
       "\n",
       "            /* Show the tooltip text when you mouse over the tooltip container */\n",
       "            .djtooltip:hover .djtooltiptext {\n",
       "                visibility: visible;\n",
       "            }\n",
       "        </style>\n",
       "        \n",
       "        <b></b>\n",
       "            <div style=\"max-height:1000px;max-width:1500px;overflow:auto;\">\n",
       "            <table border=\"1\" class=\"Relation\">\n",
       "                <thead> <tr style=\"text-align: right;\"> <th> <div class=\"djtooltip\">\n",
       "                                <p id=\"primary\">experiment_id</p>\n",
       "                                <span class=\"djtooltiptext\"></span>\n",
       "                            </div></th><th><div class=\"djtooltip\">\n",
       "                                <p id=\"nonprimary\">description</p>\n",
       "                                <span class=\"djtooltiptext\"></span>\n",
       "                            </div></th><th><div class=\"djtooltip\">\n",
       "                                <p id=\"nonprimary\">experimenters</p>\n",
       "                                <span class=\"djtooltiptext\">name of the experimenters</span>\n",
       "                            </div> </th> </tr> </thead>\n",
       "                <tbody> <tr> <td>01437</td>\n",
       "<td>GRP-optotagged</td>\n",
       "<td>Anna Chrzanowska</td> </tr> </tbody>\n",
       "            </table>\n",
       "            \n",
       "            <p>Total: 1</p></div>\n",
       "            "
      ],
      "text/plain": [
       "*experiment_id description    experimenters \n",
       "+------------+ +------------+ +------------+\n",
       "01437          GRP-optotagged Anna Chrzanows\n",
       " (Total: 1)"
      ]
     },
     "execution_count": 74,
     "metadata": {},
     "output_type": "execute_result"
    }
   ],
   "source": [
    "exp_table"
   ]
  },
  {
   "cell_type": "code",
   "execution_count": 6,
   "metadata": {},
   "outputs": [
    {
     "data": {
      "text/html": [
       "\n",
       "        \n",
       "        <style type=\"text/css\">\n",
       "            .Relation{\n",
       "                border-collapse:collapse;\n",
       "            }\n",
       "            .Relation th{\n",
       "                background: #A0A0A0; color: #ffffff; padding:4px; border:#f0e0e0 1px solid;\n",
       "                font-weight: normal; font-family: monospace; font-size: 100%;\n",
       "            }\n",
       "            .Relation td{\n",
       "                padding:4px; border:#f0e0e0 1px solid; font-size:100%;\n",
       "            }\n",
       "            .Relation tr:nth-child(odd){\n",
       "                background: #ffffff;\n",
       "            }\n",
       "            .Relation tr:nth-child(even){\n",
       "                background: #f3f1ff;\n",
       "            }\n",
       "            /* Tooltip container */\n",
       "            .djtooltip {\n",
       "            }\n",
       "            /* Tooltip text */\n",
       "            .djtooltip .djtooltiptext {\n",
       "                visibility: hidden;\n",
       "                width: 120px;\n",
       "                background-color: black;\n",
       "                color: #fff;\n",
       "                text-align: center;\n",
       "                padding: 5px 0;\n",
       "                border-radius: 6px;\n",
       "                /* Position the tooltip text - see examples below! */\n",
       "                position: absolute;\n",
       "                z-index: 1;\n",
       "            }\n",
       "            #primary {\n",
       "                font-weight: bold;\n",
       "                color: black;\n",
       "            }\n",
       "\n",
       "            #nonprimary {\n",
       "                font-weight: normal;\n",
       "                color: white;\n",
       "            }\n",
       "\n",
       "            /* Show the tooltip text when you mouse over the tooltip container */\n",
       "            .djtooltip:hover .djtooltiptext {\n",
       "                visibility: visible;\n",
       "            }\n",
       "        </style>\n",
       "        \n",
       "        <b></b>\n",
       "            <div style=\"max-height:1000px;max-width:1500px;overflow:auto;\">\n",
       "            <table border=\"1\" class=\"Relation\">\n",
       "                <thead> <tr style=\"text-align: right;\"> <th> <div class=\"djtooltip\">\n",
       "                                <p id=\"primary\">experiment_id</p>\n",
       "                                <span class=\"djtooltiptext\"></span>\n",
       "                            </div></th><th><div class=\"djtooltip\">\n",
       "                                <p id=\"primary\">mouse_id</p>\n",
       "                                <span class=\"djtooltiptext\"></span>\n",
       "                            </div></th><th><div class=\"djtooltip\">\n",
       "                                <p id=\"primary\">session_id</p>\n",
       "                                <span class=\"djtooltiptext\"></span>\n",
       "                            </div></th><th><div class=\"djtooltip\">\n",
       "                                <p id=\"primary\">trialgroup_id</p>\n",
       "                                <span class=\"djtooltiptext\"></span>\n",
       "                            </div></th><th><div class=\"djtooltip\">\n",
       "                                <p id=\"nonprimary\">stimulus_type</p>\n",
       "                                <span class=\"djtooltiptext\"></span>\n",
       "                            </div></th><th><div class=\"djtooltip\">\n",
       "                                <p id=\"nonprimary\">start_abs</p>\n",
       "                                <span class=\"djtooltiptext\"></span>\n",
       "                            </div></th><th><div class=\"djtooltip\">\n",
       "                                <p id=\"nonprimary\">stims_start</p>\n",
       "                                <span class=\"djtooltiptext\"></span>\n",
       "                            </div></th><th><div class=\"djtooltip\">\n",
       "                                <p id=\"nonprimary\">stims_end</p>\n",
       "                                <span class=\"djtooltiptext\"></span>\n",
       "                            </div></th><th><div class=\"djtooltip\">\n",
       "                                <p id=\"nonprimary\">stim_triggers</p>\n",
       "                                <span class=\"djtooltiptext\"></span>\n",
       "                            </div> </th> </tr> </thead>\n",
       "                <tbody> <tr> <td>01437</td>\n",
       "<td>M02</td>\n",
       "<td>20201214b</td>\n",
       "<td>EXD1_0001</td>\n",
       "<td>EXD1</td>\n",
       "<td>0</td>\n",
       "<td>29996</td>\n",
       "<td>-1</td>\n",
       "<td>=BLOB=</td></tr><tr><td>01437</td>\n",
       "<td>M02</td>\n",
       "<td>20201214b</td>\n",
       "<td>EXD2_0001</td>\n",
       "<td>EXD2</td>\n",
       "<td>63384371</td>\n",
       "<td>30002</td>\n",
       "<td>80376363</td>\n",
       "<td>=BLOB=</td></tr><tr><td>01437</td>\n",
       "<td>M02</td>\n",
       "<td>20201214b</td>\n",
       "<td>EXD3_0001</td>\n",
       "<td>EXD3</td>\n",
       "<td>144285767</td>\n",
       "<td>30006</td>\n",
       "<td>-1</td>\n",
       "<td>=BLOB=</td></tr><tr><td>01437</td>\n",
       "<td>M02</td>\n",
       "<td>20201214b</td>\n",
       "<td>OPTS_0001</td>\n",
       "<td>OPTS</td>\n",
       "<td>205696127</td>\n",
       "<td>29999</td>\n",
       "<td>280143</td>\n",
       "<td>=BLOB=</td> </tr> </tbody>\n",
       "            </table>\n",
       "            \n",
       "            <p>Total: 4</p></div>\n",
       "            "
      ],
      "text/plain": [
       "*experiment_id *mouse_id    *session_id    *trialgroup_id stimulus_type  start_abs     stims_start    stims_end     stim_trigg\n",
       "+------------+ +----------+ +------------+ +------------+ +------------+ +-----------+ +------------+ +-----------+ +--------+\n",
       "01437          M02          20201214b      EXD1_0001      EXD1           0             29996          -1            =BLOB=    \n",
       "01437          M02          20201214b      EXD2_0001      EXD2           63384371      30002          80376363      =BLOB=    \n",
       "01437          M02          20201214b      EXD3_0001      EXD3           144285767     30006          -1            =BLOB=    \n",
       "01437          M02          20201214b      OPTS_0001      OPTS           205696127     29999          280143        =BLOB=    \n",
       " (Total: 4)"
      ]
     },
     "execution_count": 6,
     "metadata": {},
     "output_type": "execute_result"
    }
   ],
   "source": [
    "events_table"
   ]
  },
  {
   "cell_type": "code",
   "execution_count": 76,
   "metadata": {},
   "outputs": [
    {
     "name": "stderr",
     "output_type": "stream",
     "text": [
      "c:\\users\\bramn\\anaconda3\\envs\\analysis\\lib\\site-packages\\datajoint\\connection.py:218: UserWarning: MySQL server has gone away. Reconnecting to the server.\n",
      "  warnings.warn(\"MySQL server has gone away. Reconnecting to the server.\")\n"
     ]
    }
   ],
   "source": [
    "sync_trace = (raw_table & {'session_id': '20201214b', 'stimulus_type': 'EXD1'}).fetch1('sync_trace')"
   ]
  },
  {
   "cell_type": "code",
   "execution_count": 77,
   "metadata": {},
   "outputs": [
    {
     "data": {
      "text/plain": [
       "(16, 63384371)"
      ]
     },
     "execution_count": 77,
     "metadata": {},
     "output_type": "execute_result"
    }
   ],
   "source": [
    "sync_trace.shape"
   ]
  },
  {
   "cell_type": "code",
   "execution_count": 78,
   "metadata": {},
   "outputs": [],
   "source": [
    "import numpy as np"
   ]
  },
  {
   "cell_type": "code",
   "execution_count": 79,
   "metadata": {},
   "outputs": [
    {
     "data": {
      "text/plain": [
       "(array([29996, 29997, 29998, 29999, 30000, 30001, 30002, 30003, 30004,\n",
       "        30005, 30006, 30007, 30008, 30009, 30010, 30011, 30012, 30013,\n",
       "        30014, 30015, 30016, 30017, 30018, 30019, 30020, 30021, 30022,\n",
       "        30023, 30024, 30025, 30026, 30027, 30028, 30029, 30030, 30031,\n",
       "        30032, 30033, 30034, 30035, 30036, 30037, 30038, 30039, 30040,\n",
       "        30041, 30042, 30043, 30044, 30045, 30046, 30047, 30048, 30049,\n",
       "        30050, 30051, 30052, 30053, 30054, 30055], dtype=int64),)"
      ]
     },
     "execution_count": 79,
     "metadata": {},
     "output_type": "execute_result"
    }
   ],
   "source": [
    "np.where(sync_trace[0]>0.5)"
   ]
  },
  {
   "cell_type": "code",
   "execution_count": null,
   "metadata": {},
   "outputs": [],
   "source": [
    "fig, axs = plt.subplots(16, 1, figsize=(20, 24))\n",
    "for i, signal in enumerate(sync_trace):\n",
    "    axs[i].plot(signal[:1000000])\n",
    "plt.show()"
   ]
  }
 ],
 "metadata": {
  "kernelspec": {
   "display_name": "Python 3",
   "language": "python",
   "name": "python3"
  },
  "language_info": {
   "codemirror_mode": {
    "name": "ipython",
    "version": 3
   },
   "file_extension": ".py",
   "mimetype": "text/x-python",
   "name": "python",
   "nbconvert_exporter": "python",
   "pygments_lexer": "ipython3",
   "version": "3.7.7"
  }
 },
 "nbformat": 4,
 "nbformat_minor": 4
}
