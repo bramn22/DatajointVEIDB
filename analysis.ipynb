{
 "cells": [
  {
   "cell_type": "code",
   "execution_count": 3,
   "metadata": {},
   "outputs": [
    {
     "name": "stdout",
     "output_type": "stream",
     "text": [
      "env: DJ_SUPPORT_FILEPATH_MANAGEMENT=TRUE\n",
      "Connecting root@10.86.1.219:3306\n"
     ]
    }
   ],
   "source": [
    "import pandas as pd\n",
    "import datajoint as dj\n",
    "dj.config['database.host'] = '10.86.1.219'\n",
    "dj.config['database.user'] = 'root'\n",
    "dj.config['database.password'] = 'retina'\n",
    "dj.config[\"enable_python_native_blobs\"] = True # Only for testing in dj0.12 (https://github.com/datajoint/datajoint-python#python-native-blobs)\n",
    "\n",
    "%env DJ_SUPPORT_FILEPATH_MANAGEMENT=TRUE\n",
    "\n",
    "import main\n",
    "drive_path = r\"\\\\NERFHF01/djnerf1/VEIDB/\"\n",
    "# data_path = r\"Y:\\Data\"\n",
    "data_path =r\"Z:\\Data/\"\n",
    "ft = main.load(drive_path, data_path)"
   ]
  },
  {
   "cell_type": "code",
   "execution_count": 5,
   "metadata": {},
   "outputs": [],
   "source": [
    "from datetime import date\n",
    "import matplotlib.pyplot as plt\n",
    "import numpy as np\n",
    "import seaborn as sb\n",
    "sb.set_style('dark')"
   ]
  },
  {
   "cell_type": "code",
   "execution_count": 7,
   "metadata": {},
   "outputs": [
    {
     "name": "stdout",
     "output_type": "stream",
     "text": [
      "['2P', 'SCEphys', 'VEIDB', 'mysql', 'performance_schema', 'sys', 'test']\n"
     ]
    },
    {
     "data": {
      "image/svg+xml": [
       "<svg height=\"389pt\" viewBox=\"0.00 0.00 422.13 389.00\" width=\"422pt\" xmlns=\"http://www.w3.org/2000/svg\" xmlns:xlink=\"http://www.w3.org/1999/xlink\">\n",
       "<g class=\"graph\" id=\"graph0\" transform=\"scale(1 1) rotate(0) translate(4 385)\">\n",
       "<title>%3</title>\n",
       "<polygon fill=\"white\" points=\"-4,4 -4,-385 418.125,-385 418.125,4 -4,4\" stroke=\"none\"/>\n",
       "<!-- ft.Experiment -->\n",
       "<g class=\"node\" id=\"node1\"><title>ft.Experiment</title>\n",
       "<g id=\"a_node1\"><a xlink:title=\"experiment_id        \r",
       "------------------------------\r",
       "description          \r",
       "experimenters        \r",
       "\">\n",
       "<polygon fill=\"#00ff00\" fill-opacity=\"0.188235\" points=\"211.125,-381 126.125,-381 126.125,-346 211.125,-346 211.125,-381\" stroke=\"#00ff00\" stroke-opacity=\"0.188235\"/>\n",
       "<text fill=\"darkgreen\" font-family=\"arial\" font-size=\"12.00\" text-anchor=\"start\" text-decoration=\"underline\" x=\"134.125\" y=\"-361.4\">ft.Experiment</text>\n",
       "</a>\n",
       "</g>\n",
       "</g>\n",
       "<!-- ft.Mouse -->\n",
       "<g class=\"node\" id=\"node3\"><title>ft.Mouse</title>\n",
       "<g id=\"a_node3\"><a xlink:title=\"→ ft.Experiment\r",
       "mouse_id=&quot;M1&quot;        \r",
       "------------------------------\r",
       "sex                  \r",
       "mouse_number         \r",
       "\">\n",
       "<polygon fill=\"#00ff00\" fill-opacity=\"0.188235\" points=\"170.125,-310 109.125,-310 109.125,-275 170.125,-275 170.125,-310\" stroke=\"#00ff00\" stroke-opacity=\"0.188235\"/>\n",
       "<text fill=\"darkgreen\" font-family=\"arial\" font-size=\"12.00\" text-anchor=\"start\" text-decoration=\"underline\" x=\"117.125\" y=\"-290.4\">ft.Mouse</text>\n",
       "</a>\n",
       "</g>\n",
       "</g>\n",
       "<!-- ft.Experiment&#45;&gt;ft.Mouse -->\n",
       "<g class=\"edge\" id=\"edge1\"><title>ft.Experiment-&gt;ft.Mouse</title>\n",
       "<path d=\"M161.605,-345.797C157.045,-334.949 151.127,-320.867 146.58,-310.049\" fill=\"none\" stroke=\"#000000\" stroke-opacity=\"0.250980\" stroke-width=\"0.75\"/>\n",
       "</g>\n",
       "<!-- ft.Session -->\n",
       "<g class=\"node\" id=\"node5\"><title>ft.Session</title>\n",
       "<g id=\"a_node5\"><a xlink:title=\"→ ft.Experiment\r",
       "→ ft.Mouse\r",
       "session_id           \r",
       "------------------------------\r",
       "session_date         \r",
       "\">\n",
       "<polygon fill=\"#00ff00\" fill-opacity=\"0.188235\" points=\"202.625,-239 134.625,-239 134.625,-204 202.625,-204 202.625,-239\" stroke=\"#00ff00\" stroke-opacity=\"0.188235\"/>\n",
       "<text fill=\"darkgreen\" font-family=\"arial\" font-size=\"12.00\" text-anchor=\"start\" text-decoration=\"underline\" x=\"142.625\" y=\"-219.4\">ft.Session</text>\n",
       "</a>\n",
       "</g>\n",
       "</g>\n",
       "<!-- ft.Experiment&#45;&gt;ft.Session -->\n",
       "<g class=\"edge\" id=\"edge2\"><title>ft.Experiment-&gt;ft.Session</title>\n",
       "<path d=\"M172.684,-345.592C174.93,-335.359 177.492,-322.009 178.625,-310 180.087,-294.513 180.087,-290.487 178.625,-275 177.492,-262.991 174.93,-249.641 172.684,-239.408\" fill=\"none\" stroke=\"#000000\" stroke-opacity=\"0.250980\" stroke-width=\"0.75\"/>\n",
       "</g>\n",
       "<!-- ft.ephys_tables.TrialGroupSpikes -->\n",
       "<g class=\"node\" id=\"node2\"><title>ft.ephys_tables.TrialGroupSpikes</title>\n",
       "<g id=\"a_node2\"><a xlink:title=\"→ ft.ephys_tables.SpikeSorted\r",
       "→ ft.ephys_tables.EphysRaw\r",
       "------------------------------\r",
       "stimulus_type        \r",
       "start_abs            \r",
       "clusters             \r",
       "cluster_annot        \r",
       "\">\n",
       "<ellipse cx=\"305.625\" cy=\"-13\" fill=\"#ff0000\" fill-opacity=\"0.125490\" rx=\"13\" ry=\"13\" stroke=\"#ff0000\" stroke-opacity=\"0.125490\"/>\n",
       "<text fill=\"#7f0000\" font-family=\"arial\" font-size=\"12.00\" text-anchor=\"middle\" x=\"305.625\" y=\"-9.9\">ft.ephys_tables.TrialGroupSpikes</text>\n",
       "</a>\n",
       "</g>\n",
       "</g>\n",
       "<!-- ft.Mouse&#45;&gt;ft.Session -->\n",
       "<g class=\"edge\" id=\"edge3\"><title>ft.Mouse-&gt;ft.Session</title>\n",
       "<path d=\"M146.645,-274.797C151.205,-263.949 157.123,-249.867 161.67,-239.049\" fill=\"none\" stroke=\"#000000\" stroke-opacity=\"0.250980\" stroke-width=\"0.75\"/>\n",
       "</g>\n",
       "<!-- ft.TrialGroup -->\n",
       "<g class=\"node\" id=\"node4\"><title>ft.TrialGroup</title>\n",
       "<g id=\"a_node4\"><a xlink:title=\"→ ft.Session\r",
       "trialgroup_id        \r",
       "------------------------------\r",
       "stimulus_type        \r",
       "iteration            \r",
       "\">\n",
       "<ellipse cx=\"129.625\" cy=\"-150.5\" fill=\"#00007f\" fill-opacity=\"0.250980\" rx=\"50\" ry=\"17.5\" stroke=\"#00007f\" stroke-opacity=\"0.250980\"/>\n",
       "<text fill=\"#00007f\" font-family=\"arial\" font-size=\"12.00\" text-anchor=\"start\" text-decoration=\"underline\" x=\"97.625\" y=\"-148.4\">ft.TrialGroup</text>\n",
       "</a>\n",
       "</g>\n",
       "</g>\n",
       "<!-- ft.ephys_tables.EphysRaw -->\n",
       "<g class=\"node\" id=\"node7\"><title>ft.ephys_tables.EphysRaw</title>\n",
       "<g id=\"a_node7\"><a xlink:title=\"→ ft.TrialGroup\r",
       "------------------------------\r",
       "ap_path              \r",
       "meta_path            \r",
       "sync_trace           \r",
       "stimulus_type        \r",
       "length               \r",
       "start                \r",
       "INDEX (sync_trace)\r",
       "\">\n",
       "<ellipse cx=\"95.625\" cy=\"-79.5\" fill=\"#00007f\" fill-opacity=\"0.250980\" rx=\"95.7502\" ry=\"17.5\" stroke=\"#00007f\" stroke-opacity=\"0.250980\"/>\n",
       "<text fill=\"#00007f\" font-family=\"arial\" font-size=\"12.00\" text-anchor=\"middle\" x=\"95.625\" y=\"-76.4\">ft.ephys_tables.EphysRaw</text>\n",
       "</a>\n",
       "</g>\n",
       "</g>\n",
       "<!-- ft.TrialGroup&#45;&gt;ft.ephys_tables.EphysRaw -->\n",
       "<g class=\"edge\" id=\"edge4\"><title>ft.TrialGroup-&gt;ft.ephys_tables.EphysRaw</title>\n",
       "<path d=\"M121.567,-133.148C116.226,-122.308 109.238,-108.127 103.861,-97.214\" fill=\"none\" stroke=\"#000000\" stroke-opacity=\"0.250980\" stroke-width=\"2\"/>\n",
       "</g>\n",
       "<!-- ft.Session&#45;&gt;ft.TrialGroup -->\n",
       "<g class=\"edge\" id=\"edge5\"><title>ft.Session-&gt;ft.TrialGroup</title>\n",
       "<path d=\"M159.184,-203.797C153.052,-192.949 145.093,-178.867 138.979,-168.049\" fill=\"none\" stroke=\"#000000\" stroke-opacity=\"0.250980\" stroke-width=\"0.75\"/>\n",
       "</g>\n",
       "<!-- ft.ephys_tables.SpikeSorted -->\n",
       "<g class=\"node\" id=\"node8\"><title>ft.ephys_tables.SpikeSorted</title>\n",
       "<g id=\"a_node8\"><a xlink:title=\"→ ft.Session\r",
       "------------------------------\r",
       "spike_times          \r",
       "spike_clusters       \r",
       "cluster_info         \r",
       "spike_templates      \r",
       "amplitudes           \r",
       "channel_positions    \r",
       "channel_map          \r",
       "\">\n",
       "<ellipse cx=\"311.625\" cy=\"-79.5\" fill=\"#00007f\" fill-opacity=\"0.250980\" rx=\"102.5\" ry=\"17.5\" stroke=\"#00007f\" stroke-opacity=\"0.250980\"/>\n",
       "<text fill=\"#00007f\" font-family=\"arial\" font-size=\"12.00\" text-anchor=\"middle\" x=\"311.625\" y=\"-76.4\">ft.ephys_tables.SpikeSorted</text>\n",
       "</a>\n",
       "</g>\n",
       "</g>\n",
       "<!-- ft.Session&#45;&gt;ft.ephys_tables.SpikeSorted -->\n",
       "<g class=\"edge\" id=\"edge6\"><title>ft.Session-&gt;ft.ephys_tables.SpikeSorted</title>\n",
       "<path d=\"M185.591,-203.89C213.112,-176.946 267.174,-124.018 294.682,-97.088\" fill=\"none\" stroke=\"#000000\" stroke-opacity=\"0.250980\" stroke-width=\"2\"/>\n",
       "</g>\n",
       "<!-- ft.event_tables.TrialGroupEvents -->\n",
       "<g class=\"node\" id=\"node6\"><title>ft.event_tables.TrialGroupEvents</title>\n",
       "<g id=\"a_node6\"><a xlink:title=\"→ ft.ephys_tables.EphysRaw\r",
       "------------------------------\r",
       "stimulus_type        \r",
       "start_abs            \r",
       "stims_start          \r",
       "stims_end            \r",
       "stim_triggers        \r",
       "\">\n",
       "<ellipse cx=\"95.625\" cy=\"-13\" fill=\"#ff0000\" fill-opacity=\"0.125490\" rx=\"13\" ry=\"13\" stroke=\"#ff0000\" stroke-opacity=\"0.125490\"/>\n",
       "<text fill=\"#7f0000\" font-family=\"arial\" font-size=\"12.00\" text-anchor=\"middle\" x=\"95.625\" y=\"-9.9\">ft.event_tables.TrialGroupEvents</text>\n",
       "</a>\n",
       "</g>\n",
       "</g>\n",
       "<!-- ft.ephys_tables.EphysRaw&#45;&gt;ft.ephys_tables.TrialGroupSpikes -->\n",
       "<g class=\"edge\" id=\"edge7\"><title>ft.ephys_tables.EphysRaw-&gt;ft.ephys_tables.TrialGroupSpikes</title>\n",
       "<path d=\"M142.231,-64.1854C191.048,-49.1914 264.558,-26.6134 293.398,-17.7554\" fill=\"none\" stroke=\"#000000\" stroke-opacity=\"0.250980\" stroke-width=\"2\"/>\n",
       "</g>\n",
       "<!-- ft.ephys_tables.EphysRaw&#45;&gt;ft.event_tables.TrialGroupEvents -->\n",
       "<g class=\"edge\" id=\"edge8\"><title>ft.ephys_tables.EphysRaw-&gt;ft.event_tables.TrialGroupEvents</title>\n",
       "<path d=\"M95.625,-61.8896C95.625,-50.6919 95.625,-36.1749 95.625,-26.0728\" fill=\"none\" stroke=\"#000000\" stroke-opacity=\"0.250980\" stroke-width=\"2\"/>\n",
       "</g>\n",
       "<!-- ft.ephys_tables.SpikeSorted&#45;&gt;ft.ephys_tables.TrialGroupSpikes -->\n",
       "<g class=\"edge\" id=\"edge9\"><title>ft.ephys_tables.SpikeSorted-&gt;ft.ephys_tables.TrialGroupSpikes</title>\n",
       "<path d=\"M310.08,-61.8896C309.038,-50.6919 307.688,-36.1749 306.748,-26.0728\" fill=\"none\" stroke=\"#000000\" stroke-opacity=\"0.250980\" stroke-width=\"0.75\"/>\n",
       "</g>\n",
       "</g>\n",
       "</svg>"
      ],
      "text/plain": [
       "<datajoint.diagram.Diagram at 0x2402eb820b8>"
      ]
     },
     "execution_count": 7,
     "metadata": {},
     "output_type": "execute_result"
    }
   ],
   "source": [
    "print(dj.list_schemas())\n",
    "dj.Di(ft.schema)"
   ]
  },
  {
   "cell_type": "code",
   "execution_count": 46,
   "metadata": {},
   "outputs": [],
   "source": [
    "exp_table = ft.Experiment()\n",
    "sess_table = ft.Session()\n",
    "mouse_table = ft.Mouse()\n",
    "trialgroup_table = ft.TrialGroup()\n",
    "raw_table = ft.ephys_tables.EphysRaw()\n",
    "sorted_table = ft.ephys_tables.SpikeSorted()\n",
    "tg_events_table = ft.event_tables.TrialGroupEvents()\n",
    "tg_spikes_tables = ft.ephys_tables.TrialGroupSpikes()"
   ]
  },
  {
   "cell_type": "code",
   "execution_count": 52,
   "metadata": {},
   "outputs": [],
   "source": [
    "key = {'experiment_id': '01437', 'session_id': '20201214b', 'trialgroup_id': 'EXD2_0001'}\n",
    "clusters, cluster_annot = (tg_spikes_tables & key).fetch1('clusters', 'cluster_annot')\n",
    "stims_start, stim_triggers = (tg_events_table & key).fetch1('stims_start', 'stim_triggers')"
   ]
  },
  {
   "cell_type": "code",
   "execution_count": 53,
   "metadata": {},
   "outputs": [
    {
     "name": "stdout",
     "output_type": "stream",
     "text": [
      "229\n",
      "749\n"
     ]
    }
   ],
   "source": [
    "print(len([annot for annot in list(cluster_annot.values()) if annot == 'good']))\n",
    "print(len(cluster_annot))"
   ]
  },
  {
   "cell_type": "code",
   "execution_count": 54,
   "metadata": {},
   "outputs": [],
   "source": [
    "for c in clusters.keys():\n",
    "    clusters[c] = clusters[c][clusters[c] >= stims_start]\n",
    "    clusters[c] = clusters[c] - stims_start\n",
    "stim_triggers = stim_triggers - stims_start"
   ]
  },
  {
   "cell_type": "code",
   "execution_count": 55,
   "metadata": {},
   "outputs": [
    {
     "data": {
      "text/plain": [
       "array([   33403,    33935,    43430,    58936,   104435,   113928,\n",
       "         129435,   174935,   184429,   199934,   245435,   254929,\n",
       "         270435,   315511,  7035688,  7036400,  7045894,  7061399,\n",
       "        7106899,  7116394,  7131891,  7177402,  7186893,  7202393,\n",
       "        7247898,  7257393,  7272898,  7317994, 13168146, 19018314,\n",
       "       19018838, 19028331, 19043838, 19089336, 19098832, 19114336,\n",
       "       19159837, 19169331, 19184837, 19230336, 19239831, 19255336,\n",
       "       19300412, 26290593, 26290799, 26300294, 26315800, 26361299,\n",
       "       26370794, 26386299, 26431799, 26441293, 26456799, 26502298,\n",
       "       26511793, 26527299, 26572376, 32272538, 32272769, 32282263,\n",
       "       32297769, 32343268, 32352764, 32368268, 32413767, 32423263,\n",
       "       32438768, 32484271, 32493762, 32509268, 32554345, 37414500,\n",
       "       37415243, 37424737, 37440242, 37485742, 37495236, 37510737,\n",
       "       37556241, 37565740, 37581241, 37626740, 37636236, 37651741,\n",
       "       37696836, 43816989, 50447166, 50447674, 50457178, 50472675,\n",
       "       50518174, 50527668, 50543175, 50588674, 50598168, 50613669,\n",
       "       50659173, 50668668, 50684173, 50729250, 56969421, 56970142,\n",
       "       56979639, 56995141, 57040640, 57050135, 57065640, 57111140,\n",
       "       57120635, 57136141, 57181640, 57191134, 57206640, 57251734,\n",
       "       61451864, 67182029, 67182592, 67192082, 67207589, 67253088,\n",
       "       67262582, 67278088, 67323587, 67333090, 67348588, 67394088,\n",
       "       67403581, 67419087, 67464164, 74514345, 74514550, 74524044,\n",
       "       74539550, 74585048, 74594545, 74610049, 74655550, 74665043,\n",
       "       74680545, 74726050, 74735544, 74751050, 74796127, 80316288],\n",
       "      dtype=int64)"
      ]
     },
     "execution_count": 55,
     "metadata": {},
     "output_type": "execute_result"
    }
   ],
   "source": [
    "stim_triggers"
   ]
  },
  {
   "cell_type": "code",
   "execution_count": 72,
   "metadata": {},
   "outputs": [
    {
     "name": "stdout",
     "output_type": "stream",
     "text": [
      "229\n"
     ]
    },
    {
     "data": {
      "image/png": "[encoded data removed]",
      "text/plain": [
       "<Figure size 936x504 with 1 Axes>"
      ]
     },
     "metadata": {},
     "output_type": "display_data"
    }
   ],
   "source": [
    "data = []\n",
    "\n",
    "for c in cluster_annot:\n",
    "    if cluster_annot[c] == 'good':\n",
    "        data.append((c, clusters.get(c)))\n",
    "fig, ax = plt.subplots(figsize=(13, 7))\n",
    "print(len(data))\n",
    "for i, (cluster, cl_spike_times) in enumerate(data[:]):\n",
    "    if cl_spike_times is not None and isinstance(cl_spike_times, np.ndarray):\n",
    "#         fr, _ = np.histogram(cl_spike_times, bins=np.arange(0, np.array(cl_spike_times)[-1], 30*50))\n",
    "#         plt.plot(fr*10+cluster)\n",
    "        ax.scatter(np.array(cl_spike_times)/30000, np.ones_like(cl_spike_times)*cluster*1, marker='|', c='k') # SCATTER PLOT\n",
    "\n",
    "# ax.axvline(stimgroup_start/30000, ymin=0, ymax=1, c='b', alpha=1)  \n",
    "for trigger in stim_triggers:\n",
    "    ax.axvline(trigger/30000, ymin=0, ymax=1, c='r', alpha=0.8) # FOR SCATTER PLOT SET DIVIDOR TO 30000\n",
    "#     ax.axvline(trigger/(30*50), ymin=0, ymax=1, c='r')\n",
    "\n",
    "# plt.xlim(2,16)\n",
    "plt.yticks([])\n",
    "plt.xlim(430, 450)\n",
    "# plt.xlabel('time')\n",
    "# plt.ylabel('neurons')\n",
    "# plt.savefig('spikes_SC.png', dpi=200)\n",
    "plt.show()"
   ]
  },
  {
   "cell_type": "code",
   "execution_count": 20,
   "metadata": {},
   "outputs": [
    {
     "data": {
      "text/plain": [
       "dict_values(['mua', 'mua', 'mua', 'mua', 'mua', 'mua', 'mua', 'good', 'mua', 'good', 'mua', 'mua', 'mua', 'mua', 'mua', 'mua', 'mua', 'mua', 'mua', 'good', 'mua', 'mua', 'mua', 'mua', 'good', 'mua', 'mua', 'mua', 'mua', 'good', 'good', 'mua', 'mua', 'mua', 'mua', 'mua', 'mua', 'mua', 'mua', 'mua', 'good', 'good', 'good', 'good', 'mua', 'good', 'mua', 'mua', 'mua', 'mua', 'mua', 'mua', 'mua', 'mua', 'mua', 'mua', 'mua', 'good', 'mua', 'mua', 'good', 'mua', 'mua', 'mua', 'mua', 'mua', 'mua', 'mua', 'mua', 'mua', 'mua', 'mua', 'mua', 'good', 'good', 'good', 'good', 'mua', 'mua', 'good', 'mua', 'mua', 'mua', 'mua', 'mua', 'mua', 'mua', 'good', 'mua', 'mua', 'mua', 'good', 'mua', 'good', 'good', 'good', 'mua', 'mua', 'mua', 'mua', 'mua', 'mua', 'mua', 'mua', 'mua', 'mua', 'mua', 'mua', 'good', 'good', 'good', 'mua', 'mua', 'good', 'mua', 'good', 'mua', 'mua', 'mua', 'mua', 'good', 'mua', 'good', 'mua', 'mua', 'mua', 'mua', 'mua', 'mua', 'mua', 'mua', 'mua', 'good', 'mua', 'mua', 'mua', 'mua', 'mua', 'mua', 'mua', 'mua', 'mua', 'good', 'mua', 'mua', 'mua', 'good', 'mua', 'mua', 'mua', 'good', 'mua', 'mua', 'mua', 'mua', 'good', 'good', 'mua', 'mua', 'good', 'mua', 'good', 'mua', 'mua', 'mua', 'mua', 'mua', 'mua', 'mua', 'good', 'mua', 'mua', 'good', 'mua', 'good', 'good', 'good', 'good', 'mua', 'mua', 'mua', 'mua', 'good', 'mua', 'good', 'mua', 'good', 'mua', 'mua', 'good', 'mua', 'good', 'mua', 'good', 'mua', 'noise', 'good', 'mua', 'good', 'good', 'mua', 'mua', 'good', 'mua', 'mua', 'mua', 'mua', 'mua', 'good', 'good', 'mua', 'good', 'good', 'good', 'mua', 'good', 'good', 'good', 'good', 'mua', 'good', 'mua', 'mua', 'good', 'mua', 'mua', 'mua', 'mua', 'good', 'mua', 'good', 'mua', 'mua', 'good', 'mua', 'good', 'noise', 'mua', 'good', 'mua', 'mua', 'mua', 'good', 'good', 'mua', 'mua', 'good', 'mua', 'good', 'mua', 'mua', 'mua', 'good', 'good', 'mua', 'good', 'mua', 'mua', 'good', 'good', 'good', 'mua', 'good', 'good', 'mua', 'mua', 'mua', 'good', 'good', 'mua', 'mua', 'good', 'good', 'mua', 'good', 'mua', 'mua', 'mua', 'mua', 'good', 'mua', 'good', 'good', 'good', 'mua', 'mua', 'good', 'good', 'mua', 'noise', 'mua', 'good', 'good', 'good', 'good', 'good', 'good', 'mua', 'mua', 'good', 'good', 'good', 'good', 'mua', 'good', 'good', 'good', 'good', 'mua', 'mua', 'good', 'mua', 'mua', 'good', 'good', 'mua', 'mua', 'mua', 'mua', 'mua', 'good', 'mua', 'mua', 'mua', 'mua', 'good', 'good', 'mua', 'good', 'noise', 'noise', 'mua', 'mua', 'noise', 'good', 'mua', 'mua', 'mua', 'good', 'good', 'mua', 'noise', 'good', 'mua', 'good', 'mua', 'mua', 'mua', 'good', 'mua', 'mua', 'good', 'mua', 'good', 'good', 'good', 'mua', 'mua', 'mua', 'good', 'good', 'mua', 'good', 'mua', 'mua', 'mua', 'good', 'noise', 'mua', 'noise', 'mua', 'mua', 'mua', 'mua', 'good', 'good', 'good', 'noise', 'mua', 'mua', 'mua', 'mua', 'mua', 'mua', 'noise', 'noise', 'noise', 'mua', 'good', 'noise', 'mua', 'mua', 'mua', 'mua', 'mua', 'mua', 'mua', 'mua', 'mua', 'mua', 'mua', 'good', 'noise', 'mua', 'good', 'mua', 'mua', 'mua', 'mua', 'mua', 'mua', 'good', 'good', 'mua', 'mua', 'mua', 'mua', 'noise', 'mua', 'good', 'mua', 'mua', 'mua', 'mua', 'mua', 'good', 'mua', 'mua', 'mua', 'mua', 'good', 'good', 'good', 'good', 'mua', 'mua', 'mua', 'mua', 'mua', 'good', 'mua', 'mua', 'mua', 'good', 'good', 'mua', 'mua', 'mua', 'good', 'mua', 'mua', 'good', 'mua', 'good', 'good', 'good', 'good', 'good', 'mua', 'mua', 'mua', 'noise', 'noise', 'mua', 'mua', 'good', 'mua', 'mua', 'mua', 'good', 'mua', 'good', 'good', 'mua', 'mua', 'mua', 'good', 'mua', 'mua', 'good', 'mua', 'mua', 'mua', 'mua', 'mua', 'mua', 'mua', 'mua', 'noise', 'mua', 'good', 'mua', 'mua', 'good', 'mua', 'mua', 'mua', 'good', 'mua', 'mua', 'good', 'mua', 'good', 'mua', 'mua', 'mua', 'mua', 'mua', 'mua', 'good', 'mua', 'mua', 'good', 'good', 'good', 'mua', 'mua', 'mua', 'good', 'mua', 'mua', 'mua', 'mua', 'good', 'mua', 'good', 'good', 'mua', 'mua', 'good', 'mua', 'mua', 'mua', 'mua', 'mua', 'mua', 'good', 'mua', 'good', 'mua', 'mua', 'mua', 'good', 'mua', 'good', 'mua', 'mua', 'good', 'good', 'mua', 'mua', 'mua', 'mua', 'mua', 'noise', 'mua', 'noise', 'mua', 'mua', 'mua', 'mua', 'mua', 'mua', 'mua', 'mua', 'mua', 'good', 'mua', 'mua', 'good', 'mua', 'mua', 'mua', 'noise', 'mua', 'mua', 'mua', 'mua', 'mua', 'mua', 'mua', 'mua', 'mua', 'mua', 'mua', 'good', 'noise', 'good', 'mua', 'mua', 'mua', 'mua', 'mua', 'mua', 'mua', 'good', 'good', 'mua', 'mua', 'mua', 'mua', 'mua', 'noise', 'mua', 'mua', 'noise', 'mua', 'mua', 'noise', 'noise', 'noise', 'mua', 'mua', 'mua', 'noise', 'mua', 'mua', 'mua', 'mua', 'noise', 'mua', 'good', 'mua', 'mua', 'noise', 'mua', 'mua', 'noise', 'mua', 'mua', 'mua', 'noise', 'mua', 'mua', 'noise', 'mua', 'noise', 'mua', 'mua', 'mua', 'mua', 'noise', 'mua', 'mua', 'good', 'mua', 'mua', 'mua', 'mua', 'mua', 'mua', 'good', 'mua', 'good', 'mua', 'mua', 'good', 'good', 'mua', 'noise', 'good', 'mua', 'mua', 'mua', 'good', 'mua', 'good', 'mua', 'mua', 'noise', 'mua', 'mua', 'mua', 'mua', 'good', 'mua', 'noise', 'good', 'good', 'mua', 'good', 'noise', 'noise', 'noise', 'mua', 'good', 'noise', 'mua', 'good', 'good', 'mua', 'mua', 'mua', 'mua', 'good', 'mua', 'good', 'good', 'mua', 'good', 'mua', 'mua', 'mua', 'noise', 'good', 'mua', 'good', 'mua', 'good', 'good', 'mua', 'good', 'noise', 'noise', 'mua', 'good', 'mua', 'mua', 'noise', 'mua', 'mua', 'good', 'good', 'good', 'mua', 'mua', 'mua', 'mua', 'good', 'good', 'mua', 'mua', 'good', 'noise', 'mua', 'mua', 'good', 'good', 'good', 'good', 'good', 'good', 'good', 'good', 'good', 'good', 'good', 'good', 'good'])"
      ]
     },
     "execution_count": 20,
     "metadata": {},
     "output_type": "execute_result"
    }
   ],
   "source": [
    "cluster_annot.values()"
   ]
  },
  {
   "cell_type": "code",
   "execution_count": 18,
   "metadata": {},
   "outputs": [
    {
     "data": {
      "text/plain": [
       "(41432880, 1)"
      ]
     },
     "execution_count": 18,
     "metadata": {},
     "output_type": "execute_result"
    }
   ],
   "source": [
    "spike_times.shape"
   ]
  },
  {
   "cell_type": "code",
   "execution_count": 5,
   "metadata": {},
   "outputs": [
    {
     "name": "stdout",
     "output_type": "stream",
     "text": [
      "Populated a trial for 20201214b in 01437\n",
      "Error occurred when loading events end. index 0 is out of bounds for axis 0 with size 0\n",
      "Populated a trial for 20201214b in 01437\n",
      "Populated a trial for 20201214b in 01437\n",
      "Error occurred when loading events end. index 0 is out of bounds for axis 0 with size 0\n",
      "Populated a trial for 20201214b in 01437\n"
     ]
    }
   ],
   "source": [
    "events_table.populate()"
   ]
  },
  {
   "cell_type": "code",
   "execution_count": 74,
   "metadata": {},
   "outputs": [
    {
     "data": {
      "text/html": [
       "\n",
       "        \n",
       "        <style type=\"text/css\">\n",
       "            .Relation{\n",
       "                border-collapse:collapse;\n",
       "            }\n",
       "            .Relation th{\n",
       "                background: #A0A0A0; color: #ffffff; padding:4px; border:#f0e0e0 1px solid;\n",
       "                font-weight: normal; font-family: monospace; font-size: 100%;\n",
       "            }\n",
       "            .Relation td{\n",
       "                padding:4px; border:#f0e0e0 1px solid; font-size:100%;\n",
       "            }\n",
       "            .Relation tr:nth-child(odd){\n",
       "                background: #ffffff;\n",
       "            }\n",
       "            .Relation tr:nth-child(even){\n",
       "                background: #f3f1ff;\n",
       "            }\n",
       "            /* Tooltip container */\n",
       "            .djtooltip {\n",
       "            }\n",
       "            /* Tooltip text */\n",
       "            .djtooltip .djtooltiptext {\n",
       "                visibility: hidden;\n",
       "                width: 120px;\n",
       "                background-color: black;\n",
       "                color: #fff;\n",
       "                text-align: center;\n",
       "                padding: 5px 0;\n",
       "                border-radius: 6px;\n",
       "                /* Position the tooltip text - see examples below! */\n",
       "                position: absolute;\n",
       "                z-index: 1;\n",
       "            }\n",
       "            #primary {\n",
       "                font-weight: bold;\n",
       "                color: black;\n",
       "            }\n",
       "\n",
       "            #nonprimary {\n",
       "                font-weight: normal;\n",
       "                color: white;\n",
       "            }\n",
       "\n",
       "            /* Show the tooltip text when you mouse over the tooltip container */\n",
       "            .djtooltip:hover .djtooltiptext {\n",
       "                visibility: visible;\n",
       "            }\n",
       "        </style>\n",
       "        \n",
       "        <b></b>\n",
       "            <div style=\"max-height:1000px;max-width:1500px;overflow:auto;\">\n",
       "            <table border=\"1\" class=\"Relation\">\n",
       "                <thead> <tr style=\"text-align: right;\"> <th> <div class=\"djtooltip\">\n",
       "                                <p id=\"primary\">experiment_id</p>\n",
       "                                <span class=\"djtooltiptext\"></span>\n",
       "                            </div></th><th><div class=\"djtooltip\">\n",
       "                                <p id=\"nonprimary\">description</p>\n",
       "                                <span class=\"djtooltiptext\"></span>\n",
       "                            </div></th><th><div class=\"djtooltip\">\n",
       "                                <p id=\"nonprimary\">experimenters</p>\n",
       "                                <span class=\"djtooltiptext\">name of the experimenters</span>\n",
       "                            </div> </th> </tr> </thead>\n",
       "                <tbody> <tr> <td>01437</td>\n",
       "<td>GRP-optotagged</td>\n",
       "<td>Anna Chrzanowska</td> </tr> </tbody>\n",
       "            </table>\n",
       "            \n",
       "            <p>Total: 1</p></div>\n",
       "            "
      ],
      "text/plain": [
       "*experiment_id description    experimenters \n",
       "+------------+ +------------+ +------------+\n",
       "01437          GRP-optotagged Anna Chrzanows\n",
       " (Total: 1)"
      ]
     },
     "execution_count": 74,
     "metadata": {},
     "output_type": "execute_result"
    }
   ],
   "source": [
    "exp_table"
   ]
  },
  {
   "cell_type": "code",
   "execution_count": 6,
   "metadata": {},
   "outputs": [
    {
     "data": {
      "text/html": [
       "\n",
       "        \n",
       "        <style type=\"text/css\">\n",
       "            .Relation{\n",
       "                border-collapse:collapse;\n",
       "            }\n",
       "            .Relation th{\n",
       "                background: #A0A0A0; color: #ffffff; padding:4px; border:#f0e0e0 1px solid;\n",
       "                font-weight: normal; font-family: monospace; font-size: 100%;\n",
       "            }\n",
       "            .Relation td{\n",
       "                padding:4px; border:#f0e0e0 1px solid; font-size:100%;\n",
       "            }\n",
       "            .Relation tr:nth-child(odd){\n",
       "                background: #ffffff;\n",
       "            }\n",
       "            .Relation tr:nth-child(even){\n",
       "                background: #f3f1ff;\n",
       "            }\n",
       "            /* Tooltip container */\n",
       "            .djtooltip {\n",
       "            }\n",
       "            /* Tooltip text */\n",
       "            .djtooltip .djtooltiptext {\n",
       "                visibility: hidden;\n",
       "                width: 120px;\n",
       "                background-color: black;\n",
       "                color: #fff;\n",
       "                text-align: center;\n",
       "                padding: 5px 0;\n",
       "                border-radius: 6px;\n",
       "                /* Position the tooltip text - see examples below! */\n",
       "                position: absolute;\n",
       "                z-index: 1;\n",
       "            }\n",
       "            #primary {\n",
       "                font-weight: bold;\n",
       "                color: black;\n",
       "            }\n",
       "\n",
       "            #nonprimary {\n",
       "                font-weight: normal;\n",
       "                color: white;\n",
       "            }\n",
       "\n",
       "            /* Show the tooltip text when you mouse over the tooltip container */\n",
       "            .djtooltip:hover .djtooltiptext {\n",
       "                visibility: visible;\n",
       "            }\n",
       "        </style>\n",
       "        \n",
       "        <b></b>\n",
       "            <div style=\"max-height:1000px;max-width:1500px;overflow:auto;\">\n",
       "            <table border=\"1\" class=\"Relation\">\n",
       "                <thead> <tr style=\"text-align: right;\"> <th> <div class=\"djtooltip\">\n",
       "                                <p id=\"primary\">experiment_id</p>\n",
       "                                <span class=\"djtooltiptext\"></span>\n",
       "                            </div></th><th><div class=\"djtooltip\">\n",
       "                                <p id=\"primary\">mouse_id</p>\n",
       "                                <span class=\"djtooltiptext\"></span>\n",
       "                            </div></th><th><div class=\"djtooltip\">\n",
       "                                <p id=\"primary\">session_id</p>\n",
       "                                <span class=\"djtooltiptext\"></span>\n",
       "                            </div></th><th><div class=\"djtooltip\">\n",
       "                                <p id=\"primary\">trialgroup_id</p>\n",
       "                                <span class=\"djtooltiptext\"></span>\n",
       "                            </div></th><th><div class=\"djtooltip\">\n",
       "                                <p id=\"nonprimary\">stimulus_type</p>\n",
       "                                <span class=\"djtooltiptext\"></span>\n",
       "                            </div></th><th><div class=\"djtooltip\">\n",
       "                                <p id=\"nonprimary\">start_abs</p>\n",
       "                                <span class=\"djtooltiptext\"></span>\n",
       "                            </div></th><th><div class=\"djtooltip\">\n",
       "                                <p id=\"nonprimary\">stims_start</p>\n",
       "                                <span class=\"djtooltiptext\"></span>\n",
       "                            </div></th><th><div class=\"djtooltip\">\n",
       "                                <p id=\"nonprimary\">stims_end</p>\n",
       "                                <span class=\"djtooltiptext\"></span>\n",
       "                            </div></th><th><div class=\"djtooltip\">\n",
       "                                <p id=\"nonprimary\">stim_triggers</p>\n",
       "                                <span class=\"djtooltiptext\"></span>\n",
       "                            </div> </th> </tr> </thead>\n",
       "                <tbody> <tr> <td>01437</td>\n",
       "<td>M02</td>\n",
       "<td>20201214b</td>\n",
       "<td>EXD1_0001</td>\n",
       "<td>EXD1</td>\n",
       "<td>0</td>\n",
       "<td>29996</td>\n",
       "<td>-1</td>\n",
       "<td>=BLOB=</td></tr><tr><td>01437</td>\n",
       "<td>M02</td>\n",
       "<td>20201214b</td>\n",
       "<td>EXD2_0001</td>\n",
       "<td>EXD2</td>\n",
       "<td>63384371</td>\n",
       "<td>30002</td>\n",
       "<td>80376363</td>\n",
       "<td>=BLOB=</td></tr><tr><td>01437</td>\n",
       "<td>M02</td>\n",
       "<td>20201214b</td>\n",
       "<td>EXD3_0001</td>\n",
       "<td>EXD3</td>\n",
       "<td>144285767</td>\n",
       "<td>30006</td>\n",
       "<td>-1</td>\n",
       "<td>=BLOB=</td></tr><tr><td>01437</td>\n",
       "<td>M02</td>\n",
       "<td>20201214b</td>\n",
       "<td>OPTS_0001</td>\n",
       "<td>OPTS</td>\n",
       "<td>205696127</td>\n",
       "<td>29999</td>\n",
       "<td>280143</td>\n",
       "<td>=BLOB=</td> </tr> </tbody>\n",
       "            </table>\n",
       "            \n",
       "            <p>Total: 4</p></div>\n",
       "            "
      ],
      "text/plain": [
       "*experiment_id *mouse_id    *session_id    *trialgroup_id stimulus_type  start_abs     stims_start    stims_end     stim_trigg\n",
       "+------------+ +----------+ +------------+ +------------+ +------------+ +-----------+ +------------+ +-----------+ +--------+\n",
       "01437          M02          20201214b      EXD1_0001      EXD1           0             29996          -1            =BLOB=    \n",
       "01437          M02          20201214b      EXD2_0001      EXD2           63384371      30002          80376363      =BLOB=    \n",
       "01437          M02          20201214b      EXD3_0001      EXD3           144285767     30006          -1            =BLOB=    \n",
       "01437          M02          20201214b      OPTS_0001      OPTS           205696127     29999          280143        =BLOB=    \n",
       " (Total: 4)"
      ]
     },
     "execution_count": 6,
     "metadata": {},
     "output_type": "execute_result"
    }
   ],
   "source": [
    "events_table"
   ]
  },
  {
   "cell_type": "code",
   "execution_count": 14,
   "metadata": {},
   "outputs": [],
   "source": [
    "sync_trace = (raw_table & {'session_id': '20201214b', 'stimulus_type': 'EXD1'}).fetch1('sync_trace')"
   ]
  },
  {
   "cell_type": "code",
   "execution_count": 15,
   "metadata": {},
   "outputs": [
    {
     "data": {
      "text/plain": [
       "(16, 63384371)"
      ]
     },
     "execution_count": 15,
     "metadata": {},
     "output_type": "execute_result"
    }
   ],
   "source": [
    "sync_trace.shape"
   ]
  },
  {
   "cell_type": "code",
   "execution_count": 16,
   "metadata": {},
   "outputs": [],
   "source": [
    "import numpy as np"
   ]
  },
  {
   "cell_type": "code",
   "execution_count": 33,
   "metadata": {},
   "outputs": [
    {
     "data": {
      "text/plain": [
       "(array([29996, 29997, 29998, 29999, 30000, 30001, 30002, 30003, 30004,\n",
       "        30005, 30006, 30007, 30008, 30009, 30010, 30011, 30012, 30013,\n",
       "        30014, 30015, 30016, 30017, 30018, 30019, 30020, 30021, 30022,\n",
       "        30023, 30024, 30025, 30026, 30027, 30028, 30029, 30030, 30031,\n",
       "        30032, 30033, 30034, 30035, 30036, 30037, 30038, 30039, 30040,\n",
       "        30041, 30042, 30043, 30044, 30045, 30046, 30047, 30048, 30049,\n",
       "        30050, 30051, 30052, 30053, 30054, 30055], dtype=int64),)"
      ]
     },
     "execution_count": 33,
     "metadata": {},
     "output_type": "execute_result"
    }
   ],
   "source": [
    "np.where(sync_trace[0]>0.5)"
   ]
  },
  {
   "cell_type": "code",
   "execution_count": 16,
   "metadata": {},
   "outputs": [
    {
     "data": {
      "image/png": "[encoded data removed]",
      "text/plain": [
       "<Figure size 1440x1728 with 16 Axes>"
      ]
     },
     "metadata": {},
     "output_type": "display_data"
    }
   ],
   "source": [
    "fig, axs = plt.subplots(16, 1, figsize=(20, 24))\n",
    "for i, signal in enumerate(sync_trace):\n",
    "    axs[i].plot(signal[:1000000])\n",
    "plt.show()"
   ]
  }
 ],
 "metadata": {
  "kernelspec": {
   "display_name": "Python 3",
   "language": "python",
   "name": "python3"
  },
  "language_info": {
   "codemirror_mode": {
    "name": "ipython",
    "version": 3
   },
   "file_extension": ".py",
   "mimetype": "text/x-python",
   "name": "python",
   "nbconvert_exporter": "python",
   "pygments_lexer": "ipython3",
   "version": "3.6.13"
  }
 },
 "nbformat": 4,
 "nbformat_minor": 4
}
