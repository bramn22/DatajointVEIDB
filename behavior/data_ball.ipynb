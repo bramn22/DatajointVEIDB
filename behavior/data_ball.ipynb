{
 "cells": [
  {
   "cell_type": "code",
   "execution_count": 80,
   "id": "coupled-suite",
   "metadata": {},
   "outputs": [],
   "source": [
    "import os\n",
    "import datajoint as dj\n",
    "import pandas as pd\n",
    "import numpy as np\n",
    "import matplotlib.pyplot as plt"
   ]
  },
  {
   "cell_type": "code",
   "execution_count": 6,
   "id": "equipped-accordance",
   "metadata": {},
   "outputs": [],
   "source": [
    "import h5py"
   ]
  },
  {
   "cell_type": "code",
   "execution_count": 8,
   "id": "unnecessary-receiver",
   "metadata": {},
   "outputs": [],
   "source": [
    "data_path =r\"Z:\\Data\\01437\\M03\\20201203\\wavesurfer\""
   ]
  },
  {
   "cell_type": "code",
   "execution_count": 65,
   "id": "level-senegal",
   "metadata": {},
   "outputs": [
    {
     "name": "stdout",
     "output_type": "stream",
     "text": [
      "['EXD1_0001.h5', 'EXD2_0001.h5', 'EXD3_0001.h5', 'OPTS_0001.h5']\n"
     ]
    }
   ],
   "source": [
    "wavesurfer_files = [f for f in os.listdir(data_path) if f.endswith('.h5')]\n",
    "print(wavesurfer_files)"
   ]
  },
  {
   "cell_type": "code",
   "execution_count": 68,
   "id": "personalized-arrest",
   "metadata": {},
   "outputs": [
    {
     "data": {
      "text/plain": [
       "'EXD1_0001.h5'"
      ]
     },
     "execution_count": 68,
     "metadata": {},
     "output_type": "execute_result"
    }
   ],
   "source": [
    "wavesurfer_files[0]"
   ]
  },
  {
   "cell_type": "code",
   "execution_count": 83,
   "id": "existing-disorder",
   "metadata": {},
   "outputs": [],
   "source": [
    "speedV0 = 16800 # analog signal when the animal is not moving\n",
    "sweep = '0001'\n",
    "with h5py.File(os.path.join(data_path, wavesurfer_files[0]), \"r\") as ws_file:\n",
    "    # channels from wavesurfer file:\n",
    "    # 0: frame triggers, 1: stim triggers, 2: imagin triggers,  4: ball speed, 5: camera triggers\n",
    "    trigger_traces = np.array(ws_file.get('/sweep_' + sweep + '/analogScans'))\n",
    "    ball_speed = (trigger_traces[2, :]-speedV0)/speedV0 # recorded with 20kHz"
   ]
  },
  {
   "cell_type": "code",
   "execution_count": 91,
   "id": "maritime-powell",
   "metadata": {},
   "outputs": [
    {
     "data": {
      "text/plain": [
       "(0.0, 5000000.0)"
      ]
     },
     "execution_count": 91,
     "metadata": {},
     "output_type": "execute_result"
    },
    {
     "data": {
      "image/png": "[encoded data removed]",
      "text/plain": [
       "<Figure size 432x288 with 1 Axes>"
      ]
     },
     "metadata": {
      "needs_background": "light"
     },
     "output_type": "display_data"
    }
   ],
   "source": [
    "plt.plot(ball_speed)\n",
    "plt.xlim(0,5000000)"
   ]
  },
  {
   "cell_type": "code",
   "execution_count": 82,
   "id": "noted-architect",
   "metadata": {},
   "outputs": [
    {
     "data": {
      "text/plain": [
       "array([[  128,    96,    88, ...,    83,    82,    81],\n",
       "       [   93,   126,    79, ...,   101,    91,    73],\n",
       "       [16865, 16866, 16897, ..., 16722, 16770, 16820],\n",
       "       [    8,     3,    10, ...,     5,     5,    -7]], dtype=int16)"
      ]
     },
     "execution_count": 82,
     "metadata": {},
     "output_type": "execute_result"
    }
   ],
   "source": [
    "trigger_traces"
   ]
  },
  {
   "cell_type": "code",
   "execution_count": null,
   "id": "solved-master",
   "metadata": {},
   "outputs": [],
   "source": []
  }
 ],
 "metadata": {
  "kernelspec": {
   "display_name": "Python 3",
   "language": "python",
   "name": "python3"
  },
  "language_info": {
   "codemirror_mode": {
    "name": "ipython",
    "version": 3
   },
   "file_extension": ".py",
   "mimetype": "text/x-python",
   "name": "python",
   "nbconvert_exporter": "python",
   "pygments_lexer": "ipython3",
   "version": "3.6.13"
  }
 },
 "nbformat": 4,
 "nbformat_minor": 5
}
