{
 "cells": [
  {
   "cell_type": "code",
   "execution_count": 1,
   "metadata": {},
   "outputs": [],
   "source": [
    "import os\n",
    "os.chdir('..')"
   ]
  },
  {
   "cell_type": "code",
   "execution_count": 2,
   "metadata": {},
   "outputs": [
    {
     "name": "stdout",
     "output_type": "stream",
     "text": [
      "env: DJ_SUPPORT_FILEPATH_MANAGEMENT=TRUE\n",
      "Connecting root@10.86.1.219:3306\n"
     ]
    }
   ],
   "source": [
    "import pandas as pd\n",
    "import numpy as np\n",
    "import datajoint as dj\n",
    "dj.config['database.host'] = '10.86.1.219'\n",
    "dj.config['database.user'] = 'root'\n",
    "dj.config['database.password'] = 'retina'\n",
    "dj.config[\"enable_python_native_blobs\"] = True # Only for testing in dj0.12 (https://github.com/datajoint/datajoint-python#python-native-blobs)\n",
    "\n",
    "%env DJ_SUPPORT_FILEPATH_MANAGEMENT=TRUE\n",
    "\n",
    "import main\n",
    "drive_path = r\"W:\\VEIDB/\"\n",
    "data_path = r\"Z:\\Data\"\n",
    "# data_path =r\"V:\\Data/\"\n",
    "# data_path =r\"W:\\Data/\"\n",
    "\n",
    "ft = main.load(drive_path, data_path)\n",
    "\n",
    "import matplotlib.pyplot as plt\n",
    "import seaborn as sb\n",
    "sb.set_style('dark')"
   ]
  },
  {
   "cell_type": "code",
   "execution_count": 3,
   "metadata": {},
   "outputs": [],
   "source": [
    "from ephys import neuropixels_utils\n",
    "from pathlib import Path\n",
    "import numpy as np\n",
    "import seaborn as sb\n",
    "import matplotlib.pyplot as plt\n",
    "from scipy import ndimage"
   ]
  },
  {
   "cell_type": "code",
   "execution_count": 4,
   "metadata": {},
   "outputs": [],
   "source": [
    "exp_table = ft.Experiment()\n",
    "sess_table = ft.Session()\n",
    "mouse_table = ft.Mouse()\n",
    "subsess_table = ft.Subsession()\n",
    "raw_table = ft.ephys_tables.EphysRaw()\n",
    "subsess_events_table = ft.event_tables.SubsessionEvents()\n",
    "subsess_spikes_table = ft.ephys_tables.SubsessionSpikes()\n",
    "trial_events_table = ft.event_tables.TrialEvents()"
   ]
  },
  {
   "cell_type": "code",
   "execution_count": 54,
   "metadata": {},
   "outputs": [],
   "source": [
    "exp_id = '01588'\n",
    "lfp_path = r'V:\\Data\\01589\\neuropixels\\20211020\\spikeGLX\\0016_OPTS_0001_g0_t0.imec.lf.bin'\n",
    "# lfp_path = r'V:\\Data\\01588\\neuropixel\\20211022\\spikeGLX\\OPTS_0014_g0_t0.imec.lf.bin'\n"
   ]
  },
  {
   "cell_type": "code",
   "execution_count": 55,
   "metadata": {},
   "outputs": [
    {
     "name": "stdout",
     "output_type": "stream",
     "text": [
      "nChan: 385, nFileSamp: 1147405\n"
     ]
    }
   ],
   "source": [
    "lfps = neuropixels_utils.extract_analog(Path(lfp_path), channels=range(384))\n"
   ]
  },
  {
   "cell_type": "code",
   "execution_count": 56,
   "metadata": {},
   "outputs": [],
   "source": [
    "mean_lfp = np.mean(lfps, axis=0) - np.mean(lfps)\n",
    "mean_lfp = np.mean((lfps.T-np.mean(lfps, axis=1)).T, axis=0)\n",
    "lfp_std = np.std(mean_lfp)\n",
    "\n",
    "lower_bound = -lfp_std*6\n",
    "upper_bound = lfp_std*6\n",
    "values_below = mean_lfp<lower_bound\n",
    "values_upper = mean_lfp>upper_bound\n",
    "transitions_below =  np.where(np.diff(values_below.astype(int))>0)[0]\n",
    "transitions_upper = np.where(np.diff(values_upper.astype(int))>0)[0]"
   ]
  },
  {
   "cell_type": "code",
   "execution_count": 57,
   "metadata": {},
   "outputs": [],
   "source": [
    "below_idx, upper_idx = 0, 0\n",
    "curr = 0\n",
    "transitions_below_filt = []\n",
    "transitions_upper_filt = []\n",
    "below=False\n",
    "\n",
    "while below_idx <= len(transitions_below) and upper_idx < len(transitions_upper):\n",
    "    if below == True:\n",
    "        if transitions_upper[upper_idx] > curr:\n",
    "            transitions_upper_filt.append(transitions_upper[upper_idx])\n",
    "            curr = transitions_upper[upper_idx]\n",
    "            below = False\n",
    "        upper_idx += 1\n",
    "    else:\n",
    "        if transitions_below[below_idx] > curr:\n",
    "            transitions_below_filt.append(transitions_below[below_idx])\n",
    "            curr = transitions_below[below_idx]\n",
    "            below = True\n",
    "        below_idx += 1"
   ]
  },
  {
   "cell_type": "code",
   "execution_count": 58,
   "metadata": {},
   "outputs": [
    {
     "name": "stdout",
     "output_type": "stream",
     "text": [
      "100 100\n"
     ]
    }
   ],
   "source": [
    "print(len(transitions_upper_filt), len(transitions_below_filt))"
   ]
  },
  {
   "cell_type": "code",
   "execution_count": 60,
   "metadata": {
    "scrolled": true
   },
   "outputs": [
    {
     "data": {
      "image/png": "[encoded data removed]",
      "text/plain": [
       "<Figure size 1440x216 with 1 Axes>"
      ]
     },
     "metadata": {},
     "output_type": "display_data"
    }
   ],
   "source": [
    "plt.subplots(1, 1, figsize=(20, 3))\n",
    "\n",
    "plt.plot(mean_lfp, c='k') # [120000:124000], [120200:120300]\n",
    "for transition in transitions_below:\n",
    "    plt.axvline(transition, c='r')\n",
    "for transition in transitions_upper:\n",
    "    plt.axvline(transition, c='r')\n",
    "plt.axhline(lfp_std*6, c='r')\n",
    "plt.axhline(-lfp_std*6, c='r')\n",
    "# plt.xlim(62500, 63000)\n",
    "plt.show()"
   ]
  },
  {
   "cell_type": "code",
   "execution_count": null,
   "metadata": {},
   "outputs": [],
   "source": []
  }
 ],
 "metadata": {
  "kernelspec": {
   "display_name": "Python 3",
   "language": "python",
   "name": "python3"
  },
  "language_info": {
   "codemirror_mode": {
    "name": "ipython",
    "version": 3
   },
   "file_extension": ".py",
   "mimetype": "text/x-python",
   "name": "python",
   "nbconvert_exporter": "python",
   "pygments_lexer": "ipython3",
   "version": "3.7.7"
  }
 },
 "nbformat": 4,
 "nbformat_minor": 4
}
