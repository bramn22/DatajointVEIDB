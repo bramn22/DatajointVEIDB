{
 "cells": [
  {
   "cell_type": "code",
   "execution_count": 1,
   "metadata": {},
   "outputs": [
    {
     "name": "stdout",
     "output_type": "stream",
     "text": [
      "env: DJ_SUPPORT_FILEPATH_MANAGEMENT=TRUE\n",
      "Connecting root@10.86.1.219:3306\n"
     ]
    }
   ],
   "source": [
    "import pandas as pd\n",
    "import datajoint as dj\n",
    "dj.config['database.host'] = '10.86.1.219'\n",
    "dj.config['database.user'] = 'root'\n",
    "dj.config['database.password'] = 'retina'\n",
    "dj.config[\"enable_python_native_blobs\"] = True # Only for testing in dj0.12 (https://github.com/datajoint/datajoint-python#python-native-blobs)\n",
    "\n",
    "%env DJ_SUPPORT_FILEPATH_MANAGEMENT=TRUE\n",
    "\n",
    "import main\n",
    "import seaborn as sns\n",
    "drive_path = r\"\\\\NERFHF01/djnerf1/VEIDB/\"\n",
    "# data_path = r\"Y:\\Data\"\n",
    "data_path =r\"W:\\Data/\"\n",
    "ft = main.load(drive_path, data_path)"
   ]
  },
  {
   "cell_type": "code",
   "execution_count": 2,
   "metadata": {},
   "outputs": [],
   "source": [
    "from datetime import date\n",
    "import matplotlib.pyplot as plt\n",
    "from scipy import ndimage\n",
    "import numpy as np\n",
    "import os\n",
    "import seaborn as sb\n",
    "sb.set_style('dark')"
   ]
  },
  {
   "cell_type": "code",
   "execution_count": 3,
   "metadata": {},
   "outputs": [],
   "source": [
    "exp_table = ft.Experiment()\n",
    "sess_table = ft.Session()\n",
    "mouse_table = ft.Mouse()\n",
    "subsess_table = ft.Subsession()\n",
    "raw_table = ft.ephys_tables.EphysRaw()\n",
    "raw_table_helper = ft.ephys_tables.EphysRawHelper()\n",
    "subsess_events_table = ft.event_tables.SubsessionEvents()\n",
    "subsess_spikes_table = ft.ephys_tables.SubsessionSpikes()\n",
    "trial_events_table = ft.event_tables.TrialEvents()\n",
    "\n",
    "sorted_table = ft.ephys_tables.SpikeSorted()"
   ]
  },
  {
   "cell_type": "code",
   "execution_count": 4,
   "metadata": {},
   "outputs": [],
   "source": [
    "def smooth_spikecounts(spikecounts, sigma=2):\n",
    "    return ndimage.gaussian_filter1d(spikecounts, sigma)\n",
    "\n",
    "def filter_clusters(clusters, cluster_annot, annot=['good']):\n",
    "    clusters_filtered = {}\n",
    "    for c in cluster_annot:\n",
    "        if cluster_annot[c] in annot:\n",
    "            clusters_filtered[c] = clusters.get(c)\n",
    "    return clusters_filtered\n",
    "                \n",
    "\n",
    "def plot_spike_raster(clusters, start, end, ax, event_times=None, colored=False, color_palette=None, visualize_depth=False, cluster_depths=None):\n",
    "    data = []\n",
    "\n",
    "    for c, cl_spike_times in clusters.items():\n",
    "        if cl_spike_times is not None and isinstance(cl_spike_times, np.ndarray):\n",
    "            cl_spike_times_sub = cl_spike_times[(cl_spike_times >= start) & (cl_spike_times < end)]\n",
    "            data.append((c, cl_spike_times_sub))\n",
    "            \n",
    "    for i, (cluster, cl_spike_times) in enumerate(data[:]):\n",
    "        if visualize_depth:\n",
    "            depth = cluster_depths[cluster]\n",
    "        else:\n",
    "            depth = cluster\n",
    "            \n",
    "        if colored:\n",
    "            color = color_palette[random.randint(0, len(color_palette)-1)]\n",
    "            ax.scatter(np.array(cl_spike_times)/30000, np.ones_like(cl_spike_times)*depth, marker='|', c=[color]) # SCATTER PLOT\n",
    "        else:\n",
    "            ax.scatter(np.array(cl_spike_times)/30000, np.ones_like(cl_spike_times)*depth, marker='|', c=[(0, 0, 0, 0.4)]) # SCATTER PLOT\n",
    "    \n",
    "    ax.set_ylabel('depth')\n",
    "    ax.set_xlabel('time (s)')\n",
    "    if event_times is not None:\n",
    "        event_types_and_times = list(zip(*[(i, t) for tup in event_times for (i, t) in enumerate(tup)]))\n",
    "        event_types = np.array(event_types_and_times[0]) \n",
    "        event_times = np.array(event_types_and_times[1])\n",
    "        event_times_sub = event_times[(event_times >= start) & (event_times < end)]\n",
    "        event_types_sub = event_types[(event_times >= start) & (event_times < end)]\n",
    "        for event in event_times_sub:\n",
    "            ax.axvline(event/30000, ymin=0, ymax=1, c='r', alpha=0.8)\n",
    "            \n",
    "def spikes_2_spikecounts(clusters, start, end, binsize=30):\n",
    "    \"\"\"Excludes neurons that don't fire\"\"\"\n",
    "    first_spike_time = min([s[0] for s in clusters.values() if isinstance(s, np.ndarray) and len(s)>0], default=0)    \n",
    "    last_spike_time = max([s[-1] for s in clusters.values() if isinstance(s, np.ndarray) and len(s)>0], default=0)    \n",
    "    fr_clusters = {}\n",
    "    for i, (c, cl_spike_times) in enumerate(clusters.items()):\n",
    "        if cl_spike_times is not None:\n",
    "            cl_spike_times_sub = cl_spike_times[(cl_spike_times >= start) & (cl_spike_times < end)]\n",
    "            fr, _ = np.histogram(cl_spike_times_sub, bins=np.arange(start, end, (30000/1000)*binsize))\n",
    "            fr_clusters[c] = np.float32(fr)\n",
    "    return fr_clusters\n",
    "\n",
    "def plot_spikecounts_mean(fr_clusters, ax, mean=True, event_times=None):\n",
    "    trial_frs = []\n",
    "    for j, (c, firing_rate) in enumerate(fr_clusters.items()):\n",
    "#         axs[i].plot(np.ones_like(firing_rate)*c*1, firing_rate)\n",
    "        trial_frs.append(firing_rate)\n",
    "    ax.plot(np.mean(np.array(trial_frs), axis=0))\n"
   ]
  },
  {
   "cell_type": "code",
   "execution_count": 10,
   "metadata": {},
   "outputs": [],
   "source": [
    "def get_spiking_tensor(session_key, stim, before=int(30000*0.1), after=0):    \n",
    "    subsess_key = {'subsession_type': stim, 'experiment_id': session_key['experiment_id'], 'session_id': session_key['session_id']}\n",
    "    cluster_info, clusters = (subsess_spikes_table & subsess_key).fetch1('cluster_info', 'clusters')\n",
    "    clusters_good = [c for c, annot in cluster_info['group'].items() if annot == 'good']\n",
    "    \n",
    "    trial_starts, trial_ends = (subsess_events_table & subsess_key).fetch1('trials_starts', 'trials_ends')\n",
    "    trial_lengths = [e-s for s, e in zip(trial_starts, trial_ends)]\n",
    "    print(\"Trial lengths: \", trial_lengths)\n",
    "\n",
    "    n_trials, n_neurons, window_size = len(trial_starts), len(clusters_good), int(max(trial_lengths)+before+after)  \n",
    "    spiking_tensor = np.zeros(shape=(n_trials, n_neurons, window_size))\n",
    "    spiking_tensor_meta = np.zeros(shape=(n_neurons))\n",
    "    for trial_idx, (start, end) in enumerate(zip(trial_starts, trial_ends)):\n",
    "        for c_idx, c in enumerate(clusters_good):\n",
    "            c_activity = clusters.get(c, None)\n",
    "            if c_activity is not None:\n",
    "                spiking_activity = c_activity[(c_activity >= start-before) & (c_activity < end+after)] - start - before\n",
    "#                 print(spiking_activity)\n",
    "                spiking_tensor[trial_idx, c_idx, spiking_activity] = 1\n",
    "            spiking_tensor_meta[c_idx] = c\n",
    "    \n",
    "    return spiking_tensor, spiking_tensor_meta\n",
    "\n",
    "def get_fr_tensor(subsess_key, before=int(30000*0.1), after=0, binsize=25):    \n",
    "    cluster_info, clusters = (subsess_spikes_table & subsess_key).fetch1('cluster_info', 'clusters')\n",
    "    clusters_good = [c for c, annot in cluster_info['group'].items() if annot == 'good']\n",
    "    \n",
    "    trial_starts, trial_ends = (subsess_events_table & subsess_key).fetch1('trials_starts', 'trials_ends')\n",
    "    trial_lengths = [e-s for s, e in zip(trial_starts, trial_ends)]\n",
    "    print(\"Trial lengths: \", trial_lengths)\n",
    "\n",
    "    n_trials, n_neurons, window_size = len(trial_starts), len(clusters_good), int(max(trial_lengths)+before+after)  \n",
    "    n_bins = int((window_size*1000)/(30000*binsize))\n",
    "    fr_tensor = np.zeros(shape=(n_trials, n_neurons, n_bins))\n",
    "    fr_tensor_meta = np.zeros(shape=(n_neurons))\n",
    "    for trial_idx, (start, end) in enumerate(zip(trial_starts, trial_ends)):\n",
    "        for c_idx, c in enumerate(clusters_good):\n",
    "            c_activity = clusters.get(c, None)\n",
    "            if c_activity is not None:\n",
    "                spiking_activity = c_activity[(c_activity >= start-before) & (c_activity < end+after)]\n",
    "                fr, _ = np.histogram(spiking_activity, bins=np.arange(start-before, end+after, (30000/1000)*binsize))\n",
    "#                 print(fr)\n",
    "                fr_tensor[trial_idx, c_idx, :len(fr)] = smooth_spikecounts(fr, sigma=0.5)\n",
    "            fr_tensor_meta[c_idx] = c\n",
    "    \n",
    "    return fr_tensor, fr_tensor_meta\n"
   ]
  },
  {
   "cell_type": "markdown",
   "metadata": {},
   "source": [
    "# Neural decoding\n",
    "The purpose of this notebook is twofold:\n",
    "1. How well can a threat (looming) vs non-threat (dimming) stimulus, and a variety of stimulus parameters, be decoded based on the population activity of spike sorted neurons versus unsorted activity?\n",
    "2. What are the dynamics of this decoding for both stimuli? Use encoding axes as seen in Alexandra Libby's paper.\n",
    "\n",
    "These points are investigated on a trial-by-trial basis."
   ]
  },
  {
   "cell_type": "code",
   "execution_count": 11,
   "metadata": {},
   "outputs": [],
   "source": [
    "# sessions = [{'experiment_id': '01230', 'session_id': '20200326a'}, {'experiment_id': '01231', 'session_id': '20200327a'}, {'experiment_id': '01232', 'session_id': '20200328a'}]\n",
    "sessions = [{'experiment_id': '01231', 'session_id': '20200327a'}, {'experiment_id': '01232', 'session_id': '20200328a'}, {'experiment_id': '01261', 'session_id': '20200327f'}]\n",
    "sessions_sSC_depths = [(1800, 2250), (2000, 2450), (2150, 2550)]"
   ]
  },
  {
   "cell_type": "code",
   "execution_count": 12,
   "metadata": {},
   "outputs": [],
   "source": [
    "figures_folder = os.path.join(r\"C:\\Users\\bramn\\Documents\\Projects\\DatajointVEIDB\\images\\clustering\")\n",
    "if not os.path.isdir(figures_folder):\n",
    "    os.mkdir(figures_folder)\n",
    "    \n",
    "stims_vis = ['EXPA', 'DIMM', 'CHPE']"
   ]
  },
  {
   "cell_type": "code",
   "execution_count": 106,
   "metadata": {},
   "outputs": [
    {
     "name": "stdout",
     "output_type": "stream",
     "text": [
      "{'experiment_id': '01231', 'session_id': '20200327a', 'subsession_type': 'CHPE'}\n",
      "Trial lengths:  [24999, 24995, 25000, 24995, 25001, 25001, 25000, 25001, 25000, 24999]\n",
      "Trial lengths:  [24996, 25000, 25000, 25007, 25002, 25000, 25000, 25000, 24995, 25000]\n",
      "Trial lengths:  [962490, 962502, 962494, 962494, 962494, 962495, 962495, 962496, 962500, 962491]\n",
      "{'experiment_id': '01232', 'session_id': '20200328a', 'subsession_type': 'CHPE'}\n",
      "Trial lengths:  [25000, 24988, 25000, 25000, 24998, 25008, 25000, 25000, 25001, 25002]\n",
      "Trial lengths:  [25001, 25001, 24999, 25002, 25007, 24996, 25001, 25000, 25001, 25000]\n",
      "Trial lengths:  [962496, 962496, 962496, 962496, 962495, 962495, 962495, 962494, 962494, 962494]\n",
      "{'experiment_id': '01261', 'session_id': '20200327f', 'subsession_type': 'CHPE'}\n",
      "Trial lengths:  [24999, 24999, 25001, 25001, 25000, 25001, 25001, 25000, 25000, 25004]\n",
      "Trial lengths:  [25002, 25001, 24994, 24996, 25001, 24999, 25000, 25000, 24998, 25000]\n",
      "Trial lengths:  [962498, 962495, 962495, 962494, 962494, 962494, 962496, 962495, 962497, 962500]\n"
     ]
    }
   ],
   "source": [
    "def load_session(session_key):\n",
    "    print(session_key)\n",
    "    stims_dict = {}\n",
    "    for stim in stims_vis:\n",
    "        stims_dict[stim] = {}\n",
    "        subsess_key = session_key\n",
    "        subsess_key['subsession_type'] = stim\n",
    "        fr_tensor, fr_tensor_meta = get_fr_tensor(subsess_key, binsize=30, before=int(30000*0), after=int(30000*0))\n",
    "        subsess_key = {'subsession_type': stim, 'experiment_id': session_key['experiment_id'], 'session_id': session_key['session_id']}\n",
    "        stims_dict[stim]['key'] = subsess_key\n",
    "        stims_dict[stim]['fr_tensor'] = fr_tensor\n",
    "        stims_dict[stim]['fr_tensor_meta'] = fr_tensor_meta\n",
    "    return stims_dict\n",
    "        \n",
    "sessions_list = []\n",
    "for sess in sessions:\n",
    "    sessions_list.append(load_session(sess))\n",
    "\n",
    "# padding = 0\n",
    "# binsize = 25\n",
    "# smooth_sigma = 1\n",
    "# n_trials = 4 \n",
    "\n",
    "# spiking_tensor, spiking_tensor_meta = get_spiking_tensor(sessions[0], 'EXPA')\n",
    "# fr_tensor, fr_tensor_meta = get_fr_tensor(sessions[0], 'DIMM')"
   ]
  },
  {
   "cell_type": "code",
   "execution_count": 107,
   "metadata": {},
   "outputs": [],
   "source": [
    "EXPA_fr_list = []\n",
    "DIMM_fr_list = []\n",
    "CHPE_fr_list = []\n",
    "relat_depth_list = []\n",
    "for sess, (sSC_begin, sSC_end) in zip(sessions_list, sessions_sSC_depths):\n",
    "    cluster_info = (sorted_table & sess['EXPA']['key']).fetch1('cluster_info')\n",
    "    \n",
    "    \"\"\" Might contain a bug!! Check!\"\"\"\n",
    "    cluster_depths = np.array(list(map(lambda x: cluster_info['depth'][x], sess['EXPA']['fr_tensor_meta'])))\n",
    "    sorted_idxs = np.argsort(cluster_depths)\n",
    "    sSC_filter = ((cluster_depths >= sSC_begin) & (cluster_depths <= sSC_end))[sorted_idxs]\n",
    "    sSC_idxs = sorted_idxs[sSC_filter]\n",
    "    \n",
    "    EXPA_fr_list.append(sess['EXPA']['fr_tensor'][:,sSC_idxs,:])\n",
    "    DIMM_fr_list.append(sess['DIMM']['fr_tensor'][:,sSC_idxs,:])\n",
    "    CHPE_fr_list.append(sess['CHPE']['fr_tensor'][:,sSC_idxs,:])\n",
    "    relat_depth_list.append(cluster_depths[sSC_idxs]-sSC_begin)\n",
    "    \n",
    "# EXPA_fr = np.concatenate([sess['EXPA']['fr_tensor'] for sess in sessions_list], axis=1)\n",
    "# DIMM_fr = np.concatenate([sess['DIMM']['fr_tensor'] for sess in sessions_list], axis=1)\n",
    "# CHPE_fr = np.concatenate([sess['CHPE']['fr_tensor'] for sess in sessions_list], axis=1)\n",
    "EXPA_fr = np.concatenate(EXPA_fr_list, axis=1)\n",
    "DIMM_fr = np.concatenate(DIMM_fr_list, axis=1)\n",
    "CHPE_fr = np.concatenate(CHPE_fr_list, axis=1)\n",
    "relat_depth = np.concatenate(relat_depth_list)"
   ]
  },
  {
   "cell_type": "code",
   "execution_count": 108,
   "metadata": {},
   "outputs": [],
   "source": [
    "relat_depth_sorted_idxs = np.argsort(relat_depth)\n",
    "EXPA_fr = EXPA_fr[:,relat_depth_sorted_idxs]\n",
    "DIMM_fr = DIMM_fr[:,relat_depth_sorted_idxs]\n",
    "CHPE_fr = CHPE_fr[:,relat_depth_sorted_idxs]"
   ]
  },
  {
   "cell_type": "code",
   "execution_count": 109,
   "metadata": {},
   "outputs": [
    {
     "data": {
      "text/plain": [
       "<matplotlib.axes._subplots.AxesSubplot at 0x19cd74f4d48>"
      ]
     },
     "execution_count": 109,
     "metadata": {},
     "output_type": "execute_result"
    },
    {
     "data": {
      "image/png": "[encoded data removed]",
      "text/plain": [
       "<Figure size 432x288 with 2 Axes>"
      ]
     },
     "metadata": {},
     "output_type": "display_data"
    }
   ],
   "source": [
    "sb.heatmap(np.mean(EXPA_fr[:5], axis=0))"
   ]
  },
  {
   "cell_type": "code",
   "execution_count": 110,
   "metadata": {},
   "outputs": [
    {
     "data": {
      "text/plain": [
       "<matplotlib.axes._subplots.AxesSubplot at 0x19cd741ef48>"
      ]
     },
     "execution_count": 110,
     "metadata": {},
     "output_type": "execute_result"
    },
    {
     "data": {
      "image/png": "[encoded data removed]",
      "text/plain": [
       "<Figure size 432x288 with 2 Axes>"
      ]
     },
     "metadata": {},
     "output_type": "display_data"
    }
   ],
   "source": [
    "sb.heatmap(np.mean(DIMM_fr, axis=1))"
   ]
  },
  {
   "cell_type": "code",
   "execution_count": 111,
   "metadata": {},
   "outputs": [],
   "source": [
    "from sklearn import svm"
   ]
  },
  {
   "cell_type": "code",
   "execution_count": 112,
   "metadata": {},
   "outputs": [
    {
     "data": {
      "text/plain": [
       "3"
      ]
     },
     "execution_count": 112,
     "metadata": {},
     "output_type": "execute_result"
    }
   ],
   "source": [
    "len(EXPA_fr_list)"
   ]
  },
  {
   "cell_type": "markdown",
   "metadata": {},
   "source": [
    "### For each time point\n",
    "First I take only two categories: looming and dimming. Next, add the 'no stimulus' category. Also try with standrads scaler!"
   ]
  },
  {
   "cell_type": "code",
   "execution_count": 155,
   "metadata": {},
   "outputs": [],
   "source": [
    "\"\"\" data structure \"\"\"\n",
    "# EXPA_swap, DIMM_swap = np.swapaxes(EXPA_fr, 0, 1), np.swapaxes(DIMM_fr, 0, 1)\n",
    "exp_idx = 1\n",
    "EXPA_swap, DIMM_swap = np.swapaxes(EXPA_fr_list[exp_idx], 0, 1), np.swapaxes(DIMM_fr_list[exp_idx], 0, 1)\n",
    "\n",
    "EXPA_all_timepoints = np.reshape(EXPA_swap, newshape=(EXPA_swap.shape[0], EXPA_swap.shape[1]*EXPA_swap.shape[2]))\n",
    "DIMM_all_timepoints = np.reshape(DIMM_swap, newshape=(DIMM_swap.shape[0], DIMM_swap.shape[1]*DIMM_swap.shape[2]))\n",
    "\n",
    "X = np.concatenate([EXPA_all_timepoints, DIMM_all_timepoints], axis=1).T\n",
    "y = np.concatenate([np.zeros(shape=EXPA_all_timepoints.shape[1]), np.ones(shape=DIMM_all_timepoints.shape[1])])"
   ]
  },
  {
   "cell_type": "code",
   "execution_count": 156,
   "metadata": {},
   "outputs": [],
   "source": [
    "clf = svm.SVC(kernel='linear', C=0.01)"
   ]
  },
  {
   "cell_type": "code",
   "execution_count": 157,
   "metadata": {},
   "outputs": [
    {
     "data": {
      "text/plain": [
       "SVC(C=0.01, kernel='linear')"
      ]
     },
     "execution_count": 157,
     "metadata": {},
     "output_type": "execute_result"
    }
   ],
   "source": [
    "# Add cross validation !!!\n",
    "clf.fit(X, y)"
   ]
  },
  {
   "cell_type": "code",
   "execution_count": 158,
   "metadata": {},
   "outputs": [
    {
     "data": {
      "text/plain": [
       "0.7518518518518519"
      ]
     },
     "execution_count": 158,
     "metadata": {},
     "output_type": "execute_result"
    }
   ],
   "source": [
    "clf.score(X, y)"
   ]
  },
  {
   "cell_type": "code",
   "execution_count": 159,
   "metadata": {},
   "outputs": [
    {
     "data": {
      "image/png": "[encoded data removed]",
      "text/plain": [
       "<Figure size 432x288 with 1 Axes>"
      ]
     },
     "metadata": {},
     "output_type": "display_data"
    }
   ],
   "source": [
    "# Also try for individual trials instead of taking the mean, and try z-scoring the signals!!\n",
    "# EXPA_fr_mean = np.mean(EXPA_fr, axis=0)\n",
    "# DIMM_fr_mean = np.mean(DIMM_fr, axis=0)\n",
    "EXPA_fr_mean = np.mean(EXPA_fr_list[exp_idx], axis=0)\n",
    "DIMM_fr_mean = np.mean(DIMM_fr_list[exp_idx], axis=0)\n",
    "\n",
    "fig, axs = plt.subplots(1, 1)\n",
    "axs.plot(clf.decision_function(EXPA_fr_mean.T), 'r')\n",
    "axs.plot(clf.decision_function(DIMM_fr_mean.T), 'b')\n",
    "# axs[0].plot(clf.decision_function(EXPA_fr_mean.T))\n",
    "# axs[1].plot(clf.decision_function(DIMM_fr_mean.T))\n",
    "plt.show()"
   ]
  },
  {
   "cell_type": "code",
   "execution_count": 128,
   "metadata": {},
   "outputs": [
    {
     "ename": "ValueError",
     "evalue": "X.shape[1] = 86 should be equal to 29, the number of features at training time",
     "output_type": "error",
     "traceback": [
      "\u001b[1;31m---------------------------------------------------------------------------\u001b[0m",
      "\u001b[1;31mValueError\u001b[0m                                Traceback (most recent call last)",
      "\u001b[1;32m<ipython-input-128-b03b70eb3c47>\u001b[0m in \u001b[0;36m<module>\u001b[1;34m\u001b[0m\n\u001b[0;32m      1\u001b[0m \u001b[0mEXPA_fr_mean\u001b[0m \u001b[1;33m=\u001b[0m \u001b[0mnp\u001b[0m\u001b[1;33m.\u001b[0m\u001b[0mmean\u001b[0m\u001b[1;33m(\u001b[0m\u001b[0mEXPA_fr\u001b[0m\u001b[1;33m,\u001b[0m \u001b[0maxis\u001b[0m\u001b[1;33m=\u001b[0m\u001b[1;36m0\u001b[0m\u001b[1;33m)\u001b[0m\u001b[1;33m\u001b[0m\u001b[1;33m\u001b[0m\u001b[0m\n\u001b[1;32m----> 2\u001b[1;33m \u001b[0mEXPA_dec_func\u001b[0m \u001b[1;33m=\u001b[0m \u001b[0mclf\u001b[0m\u001b[1;33m.\u001b[0m\u001b[0mdecision_function\u001b[0m\u001b[1;33m(\u001b[0m\u001b[0mEXPA_fr_mean\u001b[0m\u001b[1;33m.\u001b[0m\u001b[0mT\u001b[0m\u001b[1;33m)\u001b[0m\u001b[1;33m\u001b[0m\u001b[1;33m\u001b[0m\u001b[0m\n\u001b[0m\u001b[0;32m      3\u001b[0m \u001b[1;33m\u001b[0m\u001b[0m\n\u001b[0;32m      4\u001b[0m \u001b[0mplt\u001b[0m\u001b[1;33m.\u001b[0m\u001b[0mplot\u001b[0m\u001b[1;33m(\u001b[0m\u001b[0mEXPA_dec_func\u001b[0m\u001b[1;33m)\u001b[0m\u001b[1;33m\u001b[0m\u001b[1;33m\u001b[0m\u001b[0m\n\u001b[0;32m      5\u001b[0m \u001b[0mplt\u001b[0m\u001b[1;33m.\u001b[0m\u001b[0mshow\u001b[0m\u001b[1;33m(\u001b[0m\u001b[1;33m)\u001b[0m\u001b[1;33m\u001b[0m\u001b[1;33m\u001b[0m\u001b[0m\n",
      "\u001b[1;32mc:\\users\\bramn\\anaconda3\\envs\\analysis\\lib\\site-packages\\sklearn\\svm\\_base.py\u001b[0m in \u001b[0;36mdecision_function\u001b[1;34m(self, X)\u001b[0m\n\u001b[0;32m    581\u001b[0m         \u001b[0mtransformation\u001b[0m \u001b[0mof\u001b[0m \u001b[0movo\u001b[0m \u001b[0mdecision\u001b[0m \u001b[0mfunction\u001b[0m\u001b[1;33m.\u001b[0m\u001b[1;33m\u001b[0m\u001b[1;33m\u001b[0m\u001b[0m\n\u001b[0;32m    582\u001b[0m         \"\"\"\n\u001b[1;32m--> 583\u001b[1;33m         \u001b[0mdec\u001b[0m \u001b[1;33m=\u001b[0m \u001b[0mself\u001b[0m\u001b[1;33m.\u001b[0m\u001b[0m_decision_function\u001b[0m\u001b[1;33m(\u001b[0m\u001b[0mX\u001b[0m\u001b[1;33m)\u001b[0m\u001b[1;33m\u001b[0m\u001b[1;33m\u001b[0m\u001b[0m\n\u001b[0m\u001b[0;32m    584\u001b[0m         \u001b[1;32mif\u001b[0m \u001b[0mself\u001b[0m\u001b[1;33m.\u001b[0m\u001b[0mdecision_function_shape\u001b[0m \u001b[1;33m==\u001b[0m \u001b[1;34m'ovr'\u001b[0m \u001b[1;32mand\u001b[0m \u001b[0mlen\u001b[0m\u001b[1;33m(\u001b[0m\u001b[0mself\u001b[0m\u001b[1;33m.\u001b[0m\u001b[0mclasses_\u001b[0m\u001b[1;33m)\u001b[0m \u001b[1;33m>\u001b[0m \u001b[1;36m2\u001b[0m\u001b[1;33m:\u001b[0m\u001b[1;33m\u001b[0m\u001b[1;33m\u001b[0m\u001b[0m\n\u001b[0;32m    585\u001b[0m             \u001b[1;32mreturn\u001b[0m \u001b[0m_ovr_decision_function\u001b[0m\u001b[1;33m(\u001b[0m\u001b[0mdec\u001b[0m \u001b[1;33m<\u001b[0m \u001b[1;36m0\u001b[0m\u001b[1;33m,\u001b[0m \u001b[1;33m-\u001b[0m\u001b[0mdec\u001b[0m\u001b[1;33m,\u001b[0m \u001b[0mlen\u001b[0m\u001b[1;33m(\u001b[0m\u001b[0mself\u001b[0m\u001b[1;33m.\u001b[0m\u001b[0mclasses_\u001b[0m\u001b[1;33m)\u001b[0m\u001b[1;33m)\u001b[0m\u001b[1;33m\u001b[0m\u001b[1;33m\u001b[0m\u001b[0m\n",
      "\u001b[1;32mc:\\users\\bramn\\anaconda3\\envs\\analysis\\lib\\site-packages\\sklearn\\svm\\_base.py\u001b[0m in \u001b[0;36m_decision_function\u001b[1;34m(self, X)\u001b[0m\n\u001b[0;32m    406\u001b[0m         \u001b[1;31m# NOTE: _validate_for_predict contains check for is_fitted\u001b[0m\u001b[1;33m\u001b[0m\u001b[1;33m\u001b[0m\u001b[1;33m\u001b[0m\u001b[0m\n\u001b[0;32m    407\u001b[0m         \u001b[1;31m# hence must be placed before any other attributes are used.\u001b[0m\u001b[1;33m\u001b[0m\u001b[1;33m\u001b[0m\u001b[1;33m\u001b[0m\u001b[0m\n\u001b[1;32m--> 408\u001b[1;33m         \u001b[0mX\u001b[0m \u001b[1;33m=\u001b[0m \u001b[0mself\u001b[0m\u001b[1;33m.\u001b[0m\u001b[0m_validate_for_predict\u001b[0m\u001b[1;33m(\u001b[0m\u001b[0mX\u001b[0m\u001b[1;33m)\u001b[0m\u001b[1;33m\u001b[0m\u001b[1;33m\u001b[0m\u001b[0m\n\u001b[0m\u001b[0;32m    409\u001b[0m         \u001b[0mX\u001b[0m \u001b[1;33m=\u001b[0m \u001b[0mself\u001b[0m\u001b[1;33m.\u001b[0m\u001b[0m_compute_kernel\u001b[0m\u001b[1;33m(\u001b[0m\u001b[0mX\u001b[0m\u001b[1;33m)\u001b[0m\u001b[1;33m\u001b[0m\u001b[1;33m\u001b[0m\u001b[0m\n\u001b[0;32m    410\u001b[0m \u001b[1;33m\u001b[0m\u001b[0m\n",
      "\u001b[1;32mc:\\users\\bramn\\anaconda3\\envs\\analysis\\lib\\site-packages\\sklearn\\svm\\_base.py\u001b[0m in \u001b[0;36m_validate_for_predict\u001b[1;34m(self, X)\u001b[0m\n\u001b[0;32m    484\u001b[0m             raise ValueError(\"X.shape[1] = %d should be equal to %d, \"\n\u001b[0;32m    485\u001b[0m                              \u001b[1;34m\"the number of features at training time\"\u001b[0m \u001b[1;33m%\u001b[0m\u001b[1;33m\u001b[0m\u001b[1;33m\u001b[0m\u001b[0m\n\u001b[1;32m--> 486\u001b[1;33m                              (X.shape[1], self.shape_fit_[1]))\n\u001b[0m\u001b[0;32m    487\u001b[0m         \u001b[1;32mreturn\u001b[0m \u001b[0mX\u001b[0m\u001b[1;33m\u001b[0m\u001b[1;33m\u001b[0m\u001b[0m\n\u001b[0;32m    488\u001b[0m \u001b[1;33m\u001b[0m\u001b[0m\n",
      "\u001b[1;31mValueError\u001b[0m: X.shape[1] = 86 should be equal to 29, the number of features at training time"
     ]
    }
   ],
   "source": [
    "EXPA_fr_mean = np.mean(EXPA_fr, axis=0)\n",
    "EXPA_dec_func = clf.decision_function(EXPA_fr_mean.T)\n",
    "\n",
    "plt.plot(EXPA_dec_func)\n",
    "plt.show()"
   ]
  },
  {
   "cell_type": "code",
   "execution_count": 167,
   "metadata": {},
   "outputs": [],
   "source": [
    "EXPA_fr_mean = np.mean(EXPA_fr, axis=(0, 2))\n",
    "DIMM_fr_mean = np.mean(DIMM_fr, axis=(0, 2))\n"
   ]
  },
  {
   "cell_type": "code",
   "execution_count": 168,
   "metadata": {},
   "outputs": [
    {
     "data": {
      "text/plain": [
       "(86,)"
      ]
     },
     "execution_count": 168,
     "metadata": {},
     "output_type": "execute_result"
    }
   ],
   "source": [
    "EXPA_fr_mean.shape"
   ]
  },
  {
   "cell_type": "code",
   "execution_count": 171,
   "metadata": {},
   "outputs": [
    {
     "data": {
      "text/plain": [
       "0.4256953982586482"
      ]
     },
     "execution_count": 171,
     "metadata": {},
     "output_type": "execute_result"
    }
   ],
   "source": [
    "np.arccos((EXPA_fr_mean.T @ DIMM_fr_mean)/(np.linalg.norm(EXPA_fr_mean)*np.linalg.norm(DIMM_fr_mean)))"
   ]
  },
  {
   "cell_type": "code",
   "execution_count": 166,
   "metadata": {},
   "outputs": [
    {
     "data": {
      "image/png": "[encoded data removed]",
      "text/plain": [
       "<Figure size 432x288 with 1 Axes>"
      ]
     },
     "metadata": {},
     "output_type": "display_data"
    }
   ],
   "source": [
    "plt.plot((EXPA_fr_mean.T @ DIMM_fr_mean)[:,0])\n",
    "plt.show()"
   ]
  },
  {
   "cell_type": "code",
   "execution_count": null,
   "metadata": {},
   "outputs": [],
   "source": []
  },
  {
   "cell_type": "markdown",
   "metadata": {},
   "source": [
    "### For average activity during the stimulus"
   ]
  },
  {
   "cell_type": "code",
   "execution_count": null,
   "metadata": {},
   "outputs": [],
   "source": []
  }
 ],
 "metadata": {
  "kernelspec": {
   "display_name": "Python 3",
   "language": "python",
   "name": "python3"
  },
  "language_info": {
   "codemirror_mode": {
    "name": "ipython",
    "version": 3
   },
   "file_extension": ".py",
   "mimetype": "text/x-python",
   "name": "python",
   "nbconvert_exporter": "python",
   "pygments_lexer": "ipython3",
   "version": "3.7.6"
  }
 },
 "nbformat": 4,
 "nbformat_minor": 4
}
