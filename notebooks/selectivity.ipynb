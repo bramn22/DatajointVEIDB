{
 "cells": [
  {
   "cell_type": "code",
   "execution_count": 1,
   "metadata": {},
   "outputs": [
    {
     "name": "stdout",
     "output_type": "stream",
     "text": [
      "env: DJ_SUPPORT_FILEPATH_MANAGEMENT=TRUE\n",
      "Connecting root@10.86.1.219:3306\n"
     ]
    }
   ],
   "source": [
    "import pandas as pd\n",
    "import datajoint as dj\n",
    "dj.config['database.host'] = '10.86.1.219'\n",
    "dj.config['database.user'] = 'root'\n",
    "dj.config['database.password'] = 'retina'\n",
    "dj.config[\"enable_python_native_blobs\"] = True # Only for testing in dj0.12 (https://github.com/datajoint/datajoint-python#python-native-blobs)\n",
    "\n",
    "%env DJ_SUPPORT_FILEPATH_MANAGEMENT=TRUE\n",
    "\n",
    "import main\n",
    "import seaborn as sns\n",
    "drive_path = r\"\\\\NERFHF01/djnerf1/VEIDB/\"\n",
    "# data_path = r\"Y:\\Data\"\n",
    "data_path =r\"W:\\Data/\"\n",
    "ft = main.load(drive_path, data_path)"
   ]
  },
  {
   "cell_type": "code",
   "execution_count": 2,
   "metadata": {},
   "outputs": [],
   "source": [
    "from datetime import date\n",
    "import matplotlib.pyplot as plt\n",
    "from scipy import ndimage\n",
    "import numpy as np\n",
    "import os\n",
    "from matplotlib.gridspec import GridSpec\n",
    "import seaborn as sb\n",
    "sb.set_style('dark')"
   ]
  },
  {
   "cell_type": "code",
   "execution_count": 3,
   "metadata": {},
   "outputs": [],
   "source": [
    "exp_table = ft.Experiment()\n",
    "sess_table = ft.Session()\n",
    "mouse_table = ft.Mouse()\n",
    "subsess_table = ft.Subsession()\n",
    "raw_table = ft.ephys_tables.EphysRaw()\n",
    "raw_table_helper = ft.ephys_tables.EphysRawHelper()\n",
    "subsess_events_table = ft.event_tables.SubsessionEvents()\n",
    "subsess_spikes_table = ft.ephys_tables.SubsessionSpikes()\n",
    "trial_events_table = ft.event_tables.TrialEvents()\n",
    "\n",
    "sorted_table = ft.ephys_tables.SpikeSorted()"
   ]
  },
  {
   "cell_type": "code",
   "execution_count": 4,
   "metadata": {},
   "outputs": [],
   "source": [
    "def smooth_spikecounts(spikecounts, sigma=2):\n",
    "    return ndimage.gaussian_filter1d(spikecounts, sigma)\n",
    "\n",
    "def filter_clusters(clusters, cluster_annot, annot=['good']):\n",
    "    clusters_filtered = {}\n",
    "    for c in cluster_annot:\n",
    "        if cluster_annot[c] in annot:\n",
    "            clusters_filtered[c] = clusters.get(c)\n",
    "    return clusters_filtered\n",
    "                \n",
    "\n",
    "def plot_spike_raster(clusters, start, end, ax, event_times=None, colored=False, color_palette=None, visualize_depth=False, cluster_depths=None):\n",
    "    data = []\n",
    "\n",
    "    for c, cl_spike_times in clusters.items():\n",
    "        if cl_spike_times is not None and isinstance(cl_spike_times, np.ndarray):\n",
    "            cl_spike_times_sub = cl_spike_times[(cl_spike_times >= start) & (cl_spike_times < end)]\n",
    "            data.append((c, cl_spike_times_sub))\n",
    "            \n",
    "    for i, (cluster, cl_spike_times) in enumerate(data[:]):\n",
    "        if visualize_depth:\n",
    "            depth = cluster_depths[cluster]\n",
    "        else:\n",
    "            depth = cluster\n",
    "            \n",
    "        if colored:\n",
    "            color = color_palette[random.randint(0, len(color_palette)-1)]\n",
    "            ax.scatter(np.array(cl_spike_times)/30000, np.ones_like(cl_spike_times)*depth, marker='|', c=[color]) # SCATTER PLOT\n",
    "        else:\n",
    "            ax.scatter(np.array(cl_spike_times)/30000, np.ones_like(cl_spike_times)*depth, marker='|', c=[(0, 0, 0, 0.4)]) # SCATTER PLOT\n",
    "    \n",
    "    ax.set_ylabel('depth')\n",
    "    ax.set_xlabel('time (s)')\n",
    "    if event_times is not None:\n",
    "        event_types_and_times = list(zip(*[(i, t) for tup in event_times for (i, t) in enumerate(tup)]))\n",
    "        event_types = np.array(event_types_and_times[0]) \n",
    "        event_times = np.array(event_types_and_times[1])\n",
    "        event_times_sub = event_times[(event_times >= start) & (event_times < end)]\n",
    "        event_types_sub = event_types[(event_times >= start) & (event_times < end)]\n",
    "        for event in event_times_sub:\n",
    "            ax.axvline(event/30000, ymin=0, ymax=1, c='r', alpha=0.8)\n",
    "            \n",
    "def spikes_2_spikecounts(clusters, start, end, binsize=30):\n",
    "    \"\"\"Excludes neurons that don't fire\"\"\"\n",
    "    first_spike_time = min([s[0] for s in clusters.values() if isinstance(s, np.ndarray) and len(s)>0], default=0)    \n",
    "    last_spike_time = max([s[-1] for s in clusters.values() if isinstance(s, np.ndarray) and len(s)>0], default=0)    \n",
    "    fr_clusters = {}\n",
    "    for i, (c, cl_spike_times) in enumerate(clusters.items()):\n",
    "        if cl_spike_times is not None:\n",
    "            cl_spike_times_sub = cl_spike_times[(cl_spike_times >= start) & (cl_spike_times < end)]\n",
    "            fr, _ = np.histogram(cl_spike_times_sub, bins=np.arange(start, end, (30000/1000)*binsize))\n",
    "            fr_clusters[c] = np.float32(fr)\n",
    "    return fr_clusters\n",
    "\n",
    "def plot_spikecounts_mean(fr_clusters, ax, mean=True, event_times=None):\n",
    "    trial_frs = []\n",
    "    for j, (c, firing_rate) in enumerate(fr_clusters.items()):\n",
    "#         axs[i].plot(np.ones_like(firing_rate)*c*1, firing_rate)\n",
    "        trial_frs.append(firing_rate)\n",
    "    ax.plot(np.mean(np.array(trial_frs), axis=0))\n"
   ]
  },
  {
   "cell_type": "code",
   "execution_count": 5,
   "metadata": {},
   "outputs": [],
   "source": [
    "def get_spiking_tensor(session_key, stim, before=int(30000*0.1), after=0):    \n",
    "    subsess_key = {'subsession_type': stim, 'experiment_id': session_key['experiment_id'], 'session_id': session_key['session_id']}\n",
    "    cluster_info, clusters = (subsess_spikes_table & subsess_key).fetch1('cluster_info', 'clusters')\n",
    "    clusters_good = [c for c, annot in cluster_info['group'].items() if annot == 'good']\n",
    "    \n",
    "    trial_starts, trial_ends = (subsess_events_table & subsess_key).fetch1('trials_starts', 'trials_ends')\n",
    "    trial_lengths = [e-s for s, e in zip(trial_starts, trial_ends)]\n",
    "    print(\"Trial lengths: \", trial_lengths)\n",
    "\n",
    "    n_trials, n_neurons, window_size = len(trial_starts), len(clusters_good), int(max(trial_lengths)+before+after)  \n",
    "    spiking_tensor = np.zeros(shape=(n_trials, n_neurons, window_size))\n",
    "    spiking_tensor_meta = np.zeros(shape=(n_neurons))\n",
    "    for trial_idx, (start, end) in enumerate(zip(trial_starts, trial_ends)):\n",
    "        for c_idx, c in enumerate(clusters_good):\n",
    "            c_activity = clusters.get(c, None)\n",
    "            if c_activity is not None:\n",
    "                spiking_activity = c_activity[(c_activity >= start-before) & (c_activity < end+after)] - start - before\n",
    "#                 print(spiking_activity)\n",
    "                spiking_tensor[trial_idx, c_idx, spiking_activity] = 1\n",
    "            spiking_tensor_meta[c_idx] = c\n",
    "    \n",
    "    return spiking_tensor, spiking_tensor_meta\n",
    "\n",
    "def get_fr_tensor(subsess_key, before=int(30000*0.1), after=0, binsize=25):    \n",
    "    cluster_info, clusters = (subsess_spikes_table & subsess_key).fetch1('cluster_info', 'clusters')\n",
    "    clusters_good = [c for c, annot in cluster_info['group'].items() if annot == 'good']\n",
    "    \n",
    "    trial_starts, trial_ends = (subsess_events_table & subsess_key).fetch1('trials_starts', 'trials_ends')\n",
    "    trial_lengths = [e-s for s, e in zip(trial_starts, trial_ends)]\n",
    "    print(\"Trial lengths: \", trial_lengths)\n",
    "\n",
    "    n_trials, n_neurons, window_size = len(trial_starts), len(clusters_good), int(max(trial_lengths)+before+after)  \n",
    "    n_bins = int((window_size*1000)/(30000*binsize))\n",
    "    fr_tensor = np.zeros(shape=(n_trials, n_neurons, n_bins))\n",
    "    fr_tensor_meta = np.zeros(shape=(n_neurons))\n",
    "    for trial_idx, (start, end) in enumerate(zip(trial_starts, trial_ends)):\n",
    "        for c_idx, c in enumerate(clusters_good):\n",
    "            c_activity = clusters.get(c, None)\n",
    "            if c_activity is not None:\n",
    "                spiking_activity = c_activity[(c_activity >= start-before) & (c_activity < end+after)]\n",
    "                fr, _ = np.histogram(spiking_activity, bins=np.arange(start-before, end+after, (30000/1000)*binsize))\n",
    "#                 print(fr)\n",
    "                fr_tensor[trial_idx, c_idx, :len(fr)] = smooth_spikecounts(fr, sigma=0.5)\n",
    "            fr_tensor_meta[c_idx] = c\n",
    "    \n",
    "    # Extract baseline fr\n",
    "    baseline_window = 30000#trial_starts[0]-1\n",
    "    baseline_fr = np.zeros(shape=(n_neurons, int((baseline_window*1000)/(30000*binsize))))\n",
    "    for c_idx, c in enumerate(clusters_good):\n",
    "        c_activity = clusters.get(c, None)\n",
    "        if c_activity is not None:\n",
    "            spiking_activity = c_activity[(c_activity < baseline_window)]\n",
    "            fr, _ = np.histogram(spiking_activity, bins=np.arange(0, baseline_window, (30000/1000)*binsize))\n",
    "#                 print(fr)\n",
    "            baseline_fr[c_idx, :len(fr)] = smooth_spikecounts(fr, sigma=0.5)\n",
    "    return fr_tensor, fr_tensor_meta, baseline_fr\n"
   ]
  },
  {
   "cell_type": "code",
   "execution_count": 6,
   "metadata": {},
   "outputs": [],
   "source": [
    "# sessions = [{'experiment_id': '01230', 'session_id': '20200326a'}, {'experiment_id': '01231', 'session_id': '20200327a'}, {'experiment_id': '01232', 'session_id': '20200328a'}]\n",
    "sessions = [{'experiment_id': '01231', 'session_id': '20200327a'}, {'experiment_id': '01232', 'session_id': '20200328a'}, {'experiment_id': '01261', 'session_id': '20200327f'}, {'experiment_id': '01247', 'session_id': '20200328e'}]\n",
    "# at least 2330\n",
    "sessions_sSC_depths = [(1900, 2250), (2100, 2450), (2250, 2550), (2800, 3100)]"
   ]
  },
  {
   "cell_type": "code",
   "execution_count": 7,
   "metadata": {},
   "outputs": [],
   "source": [
    "figures_folder = os.path.join(r\"C:\\Users\\bramn\\Documents\\Projects\\DatajointVEIDB\\images\\selectivity\")\n",
    "if not os.path.isdir(figures_folder):\n",
    "    os.mkdir(figures_folder)\n",
    "    \n",
    "stims_vis = ['EXPA', 'DIMM', 'CHPE', 'EXPW']"
   ]
  },
  {
   "cell_type": "code",
   "execution_count": 8,
   "metadata": {},
   "outputs": [
    {
     "name": "stdout",
     "output_type": "stream",
     "text": [
      "{'experiment_id': '01231', 'session_id': '20200327a'}\n",
      "Trial lengths:  [24999, 24995, 25000, 24995, 25001, 25001, 25000, 25001, 25000, 24999]\n",
      "Trial lengths:  [24996, 25000, 25000, 25007, 25002, 25000, 25000, 25000, 24995, 25000]\n",
      "Trial lengths:  [962490, 962502, 962494, 962494, 962494, 962495, 962495, 962496, 962500, 962491]\n",
      "Trial lengths:  [24995, 24991, 24994, 24999, 25002, 24999, 25000, 25005, 25001, 25000]\n",
      "{'experiment_id': '01232', 'session_id': '20200328a'}\n",
      "Trial lengths:  [25000, 24988, 25000, 25000, 24998, 25008, 25000, 25000, 25001, 25002]\n",
      "Trial lengths:  [25001, 25001, 24999, 25002, 25007, 24996, 25001, 25000, 25001, 25000]\n",
      "Trial lengths:  [962496, 962496, 962496, 962496, 962495, 962495, 962495, 962494, 962494, 962494]\n",
      "Trial lengths:  [25000, 24999, 24994, 25000, 25000, 25000, 25000, 24993, 25001, 24994]\n",
      "{'experiment_id': '01261', 'session_id': '20200327f'}\n",
      "Trial lengths:  [24999, 24999, 25001, 25001, 25000, 25001, 25001, 25000, 25000, 25004]\n",
      "Trial lengths:  [25002, 25001, 24994, 24996, 25001, 24999, 25000, 25000, 24998, 25000]\n",
      "Trial lengths:  [962498, 962495, 962495, 962494, 962494, 962494, 962496, 962495, 962497, 962500]\n",
      "Trial lengths:  [24999, 24995, 25000, 25000, 24996, 25001, 25000, 24995, 25000, 25002]\n",
      "{'experiment_id': '01247', 'session_id': '20200328e'}\n",
      "Trial lengths:  [24999, 25001, 25000, 25001, 25000, 25001, 24994, 24997, 25007, 24995]\n",
      "Trial lengths:  [24998, 24988, 25000, 25013, 24999, 25000, 25006, 24998, 25000, 24994]\n",
      "Trial lengths:  [962490, 962496, 962496, 962495, 962496, 962495, 962495, 962494, 962495, 962494]\n",
      "Trial lengths:  [25001, 24995, 25000, 25007, 24996, 25001, 24999, 25001, 24996, 25000]\n"
     ]
    }
   ],
   "source": [
    "def load_session(session_key):\n",
    "    print(session_key)\n",
    "    stims_dict = {}\n",
    "    for stim in stims_vis:\n",
    "        stims_dict[stim] = {}\n",
    "        subsess_key = session_key\n",
    "        subsess_key['subsession_type'] = stim\n",
    "        fr_tensor, fr_tensor_meta, baseline_fr = get_fr_tensor(subsess_key, binsize=30, before=int(30000*0), after=int(30000*0))\n",
    "        subsess_key = {'subsession_type': stim, 'experiment_id': session_key['experiment_id'], 'session_id': session_key['session_id']}\n",
    "        stims_dict[stim]['key'] = subsess_key\n",
    "        stims_dict[stim]['fr_tensor'] = fr_tensor\n",
    "        stims_dict[stim]['fr_tensor_meta'] = fr_tensor_meta\n",
    "        stims_dict[stim]['baseline'] = baseline_fr\n",
    "    return stims_dict\n",
    "        \n",
    "sessions_list = []\n",
    "for sess in sessions:\n",
    "    sessions_list.append(load_session(sess))\n",
    "\n",
    "# padding = 0\n",
    "# binsize = 25\n",
    "# smooth_sigma = 1\n",
    "# n_trials = 4 \n",
    "\n",
    "# spiking_tensor, spiking_tensor_meta = get_spiking_tensor(sessions[0], 'EXPA')\n",
    "# fr_tensor, fr_tensor_meta = get_fr_tensor(sessions[0], 'DIMM')"
   ]
  },
  {
   "cell_type": "code",
   "execution_count": 9,
   "metadata": {},
   "outputs": [
    {
     "data": {
      "text/plain": [
       "(203, 33)"
      ]
     },
     "execution_count": 9,
     "metadata": {},
     "output_type": "execute_result"
    }
   ],
   "source": [
    "sessions_list[0]['EXPA']['baseline'].shape"
   ]
  },
  {
   "cell_type": "code",
   "execution_count": 10,
   "metadata": {},
   "outputs": [
    {
     "data": {
      "text/plain": [
       "array([1, 2, 5])"
      ]
     },
     "execution_count": 10,
     "metadata": {},
     "output_type": "execute_result"
    }
   ],
   "source": [
    "import numpy as np\n",
    "a = np.array([5, 1, 2])\n",
    "a[np.argsort(a)]"
   ]
  },
  {
   "cell_type": "code",
   "execution_count": 11,
   "metadata": {},
   "outputs": [
    {
     "data": {
      "text/plain": [
       "[(1900, 2250), (2100, 2450), (2250, 2550), (2800, 3100)]"
      ]
     },
     "execution_count": 11,
     "metadata": {},
     "output_type": "execute_result"
    }
   ],
   "source": [
    "sessions_sSC_depths"
   ]
  },
  {
   "cell_type": "code",
   "execution_count": 12,
   "metadata": {},
   "outputs": [
    {
     "name": "stdout",
     "output_type": "stream",
     "text": [
      "(203,)\n",
      "(203,)\n",
      "(260,)\n",
      "(260,)\n",
      "(469,)\n",
      "(469,)\n",
      "(261,)\n",
      "(261,)\n"
     ]
    }
   ],
   "source": [
    "EXPA_fr_list = []\n",
    "EXPA_basefr_list = []\n",
    "DIMM_fr_list = []\n",
    "DIMM_basefr_list = []\n",
    "CHPE_fr_list = []\n",
    "CHPE_basefr_list = []\n",
    "EXPW_fr_list = []\n",
    "EXPW_basefr_list = []\n",
    "\n",
    "relat_depth_list = []\n",
    "for sess, (sSC_begin, sSC_end) in zip(sessions_list, sessions_sSC_depths):\n",
    "    cluster_info = (sorted_table & sess['EXPA']['key']).fetch1('cluster_info')\n",
    "    \n",
    "    \"\"\" Might contain a bug!! Check!\"\"\"\n",
    "    cluster_depths = np.array(list(map(lambda x: cluster_info['depth'][x], sess['EXPA']['fr_tensor_meta'])))\n",
    "    sorted_idxs = np.argsort(cluster_depths)\n",
    "    print(sorted_idxs.shape)\n",
    "    SC_filter = ((cluster_depths >= sSC_end-1100) & (cluster_depths <= sSC_end))[sorted_idxs] #1100 includes both sSC and dSC (Meister)\n",
    "    print(SC_filter.shape)\n",
    "    SC_idxs = sorted_idxs[SC_filter]\n",
    "    \n",
    "    EXPA_fr_list.append(sess['EXPA']['fr_tensor'][:,SC_idxs,:])\n",
    "    DIMM_fr_list.append(sess['DIMM']['fr_tensor'][:,SC_idxs,:])\n",
    "    CHPE_fr_list.append(sess['CHPE']['fr_tensor'][:,SC_idxs,:])\n",
    "    EXPW_fr_list.append(sess['EXPW']['fr_tensor'][:,SC_idxs,:])\n",
    "    \n",
    "    EXPA_basefr_list.append(sess['EXPA']['baseline'][SC_idxs])\n",
    "    DIMM_basefr_list.append(sess['DIMM']['baseline'][SC_idxs])\n",
    "    CHPE_basefr_list.append(sess['CHPE']['baseline'][SC_idxs])\n",
    "    EXPW_basefr_list.append(sess['EXPW']['baseline'][SC_idxs])\n",
    "    \n",
    "    relat_depth_list.append(cluster_depths[SC_idxs]-sSC_begin)\n",
    "    \n",
    "# EXPA_fr = np.concatenate([sess['EXPA']['fr_tensor'] for sess in sessions_list], axis=1)\n",
    "# DIMM_fr = np.concatenate([sess['DIMM']['fr_tensor'] for sess in sessions_list], axis=1)\n",
    "# CHPE_fr = np.concatenate([sess['CHPE']['fr_tensor'] for sess in sessions_list], axis=1)\n",
    "EXPA_fr = np.concatenate(EXPA_fr_list, axis=1)\n",
    "DIMM_fr = np.concatenate(DIMM_fr_list, axis=1)\n",
    "CHPE_fr = np.concatenate(CHPE_fr_list, axis=1)\n",
    "EXPW_fr = np.concatenate(EXPW_fr_list, axis=1)\n",
    "\n",
    "EXPA_basefr = np.concatenate(EXPA_basefr_list, axis=0)\n",
    "DIMM_basefr = np.concatenate(DIMM_basefr_list, axis=0)\n",
    "CHPE_basefr = np.concatenate(CHPE_basefr_list, axis=0)\n",
    "EXPW_basefr = np.concatenate(EXPW_basefr_list, axis=0)\n",
    "\n",
    "relat_depth = np.concatenate(relat_depth_list)"
   ]
  },
  {
   "cell_type": "code",
   "execution_count": 13,
   "metadata": {},
   "outputs": [
    {
     "data": {
      "text/plain": [
       "array([1, 2, 3, 4, 5])"
      ]
     },
     "execution_count": 13,
     "metadata": {},
     "output_type": "execute_result"
    }
   ],
   "source": [
    "a = np.array([5, 4, 1, 2, 3])\n",
    "a[np.argsort(a)]"
   ]
  },
  {
   "cell_type": "code",
   "execution_count": 14,
   "metadata": {},
   "outputs": [
    {
     "data": {
      "text/plain": [
       "(373, 33)"
      ]
     },
     "execution_count": 14,
     "metadata": {},
     "output_type": "execute_result"
    }
   ],
   "source": [
    "EXPA_basefr.shape"
   ]
  },
  {
   "cell_type": "code",
   "execution_count": 15,
   "metadata": {},
   "outputs": [],
   "source": [
    "\"\"\" Sort all neurons based on depth\"\"\"\n",
    "relat_depth_sorted_idxs = np.argsort(relat_depth)\n",
    "EXPA_fr = EXPA_fr[:,relat_depth_sorted_idxs]\n",
    "DIMM_fr = DIMM_fr[:,relat_depth_sorted_idxs]\n",
    "CHPE_fr = CHPE_fr[:,relat_depth_sorted_idxs]\n",
    "EXPW_fr = EXPW_fr[:,relat_depth_sorted_idxs]\n",
    "\n",
    "EXPA_basefr = EXPA_basefr[relat_depth_sorted_idxs]\n",
    "DIMM_basefr = DIMM_basefr[relat_depth_sorted_idxs]\n",
    "CHPE_basefr = CHPE_basefr[relat_depth_sorted_idxs]\n",
    "EXPW_basefr = EXPW_basefr[relat_depth_sorted_idxs]"
   ]
  },
  {
   "cell_type": "code",
   "execution_count": 16,
   "metadata": {},
   "outputs": [],
   "source": [
    "EXPA_basefr_mean = np.mean(EXPA_basefr, axis=1)\n",
    "DIMM_basefr_mean = np.mean(DIMM_basefr, axis=1)\n",
    "CHPE_basefr_mean = np.mean(CHPE_basefr, axis=1)\n",
    "EXPW_basefr_mean = np.mean(EXPW_basefr, axis=1)\n",
    "\n",
    "EXPA_basefr_std = np.std(EXPA_basefr, axis=1)\n",
    "DIMM_basefr_std = np.std(DIMM_basefr, axis=1)\n",
    "CHPE_basefr_std = np.std(CHPE_basefr, axis=1)\n",
    "EXPW_basefr_std = np.std(EXPW_basefr, axis=1)"
   ]
  },
  {
   "cell_type": "code",
   "execution_count": 17,
   "metadata": {},
   "outputs": [],
   "source": [
    "A = EXPA_fr[0]\n",
    "A_base_mean = EXPA_basefr_mean\n",
    "A_base_std = EXPA_basefr_std\n",
    "# B = DIMM_fr[0]\n",
    "# B_base_mean = DIMM_basefr_mean\n",
    "# B_base_std = DIMM_basefr_std\n",
    "B = EXPW_fr[0]\n",
    "B_base_mean = EXPW_basefr_mean\n",
    "B_base_std = EXPW_basefr_std"
   ]
  },
  {
   "cell_type": "code",
   "execution_count": 18,
   "metadata": {},
   "outputs": [
    {
     "name": "stderr",
     "output_type": "stream",
     "text": [
      "c:\\users\\bramn\\anaconda3\\envs\\analysis\\lib\\site-packages\\ipykernel_launcher.py:1: RuntimeWarning: divide by zero encountered in true_divide\n",
      "  \"\"\"Entry point for launching an IPython kernel.\n",
      "c:\\users\\bramn\\anaconda3\\envs\\analysis\\lib\\site-packages\\ipykernel_launcher.py:1: RuntimeWarning: invalid value encountered in true_divide\n",
      "  \"\"\"Entry point for launching an IPython kernel.\n",
      "c:\\users\\bramn\\anaconda3\\envs\\analysis\\lib\\site-packages\\ipykernel_launcher.py:2: RuntimeWarning: divide by zero encountered in true_divide\n",
      "  \n",
      "c:\\users\\bramn\\anaconda3\\envs\\analysis\\lib\\site-packages\\ipykernel_launcher.py:2: RuntimeWarning: invalid value encountered in true_divide\n",
      "  \n"
     ]
    }
   ],
   "source": [
    "visually_responsive_neurons = ((np.mean(((A.T-A_base_mean)/A_base_std).T, axis=1)+\n",
    "                                np.mean(((B.T-B_base_mean)/B_base_std).T, axis=1))/2 > 0.01)"
   ]
  },
  {
   "cell_type": "code",
   "execution_count": null,
   "metadata": {},
   "outputs": [],
   "source": []
  },
  {
   "cell_type": "code",
   "execution_count": 19,
   "metadata": {},
   "outputs": [
    {
     "data": {
      "text/plain": [
       "(373, 27)"
      ]
     },
     "execution_count": 19,
     "metadata": {},
     "output_type": "execute_result"
    }
   ],
   "source": [
    "A.shape"
   ]
  },
  {
   "cell_type": "code",
   "execution_count": 20,
   "metadata": {},
   "outputs": [],
   "source": [
    "\"\"\" Selectivity chosen as any postivie repsonse -> inhibited neurons are ignored\"\"\"\n",
    "# r_EXPA = np.clip(np.sum(EXPA_fr, axis=(0, 2)) - EXPA_basefr*EXPA_fr.shape[0]*EXPA_fr.shape[2], a_min=0, a_max=None)\n",
    "# r_DIMM = np.clip(np.sum(DIMM_fr, axis=(0, 2)) - DIMM_basefr*DIMM_fr.shape[0]*DIMM_fr.shape[2], a_min=0, a_max=None)\n",
    "\n",
    "# r_EXPA = np.abs(np.sum(EXPA_fr[0], axis=(1)) - EXPA_basefr*EXPA_fr.shape[2])\n",
    "# r_DIMM = np.abs(np.sum(DIMM_fr[0], axis=(1)) - DIMM_basefr*DIMM_fr.shape[2])\n",
    "r_A = np.clip(np.sum(A, axis=(1)) - A_base_mean*A.shape[1], a_min=0, a_max=None)\n",
    "r_B = np.clip(np.sum(B, axis=(1)) - B_base_mean*B.shape[1], a_min=0, a_max=None)\n",
    "# r_EXPA = np.mean(EXPA_fr, axis=(0, 2)) - EXPA_basefr\n",
    "# r_DIMM = np.mean(DIMM_fr, axis=(0, 2)) - DIMM_basefr"
   ]
  },
  {
   "cell_type": "code",
   "execution_count": 21,
   "metadata": {},
   "outputs": [
    {
     "data": {
      "text/plain": [
       "1.7272727272727273"
      ]
     },
     "execution_count": 21,
     "metadata": {},
     "output_type": "execute_result"
    }
   ],
   "source": [
    "# EXPA_fr\n",
    "np.max(A_base_mean)"
   ]
  },
  {
   "cell_type": "code",
   "execution_count": 22,
   "metadata": {},
   "outputs": [
    {
     "name": "stderr",
     "output_type": "stream",
     "text": [
      "c:\\users\\bramn\\anaconda3\\envs\\analysis\\lib\\site-packages\\ipykernel_launcher.py:1: RuntimeWarning: invalid value encountered in true_divide\n",
      "  \"\"\"Entry point for launching an IPython kernel.\n"
     ]
    }
   ],
   "source": [
    "selectivity_indexes = ((r_A-r_B)/(r_A+r_B))"
   ]
  },
  {
   "cell_type": "code",
   "execution_count": 23,
   "metadata": {},
   "outputs": [
    {
     "data": {
      "text/plain": [
       "2"
      ]
     },
     "execution_count": 23,
     "metadata": {},
     "output_type": "execute_result"
    }
   ],
   "source": [
    "np.argmin(r_A)"
   ]
  },
  {
   "cell_type": "code",
   "execution_count": 24,
   "metadata": {},
   "outputs": [
    {
     "data": {
      "text/plain": [
       "-1.0"
      ]
     },
     "execution_count": 24,
     "metadata": {},
     "output_type": "execute_result"
    }
   ],
   "source": [
    "np.min(selectivity_indexes[visually_responsive_neurons])"
   ]
  },
  {
   "cell_type": "code",
   "execution_count": 25,
   "metadata": {},
   "outputs": [
    {
     "data": {
      "text/plain": [
       "1.0"
      ]
     },
     "execution_count": 25,
     "metadata": {},
     "output_type": "execute_result"
    }
   ],
   "source": [
    "np.max(selectivity_indexes[visually_responsive_neurons])"
   ]
  },
  {
   "cell_type": "code",
   "execution_count": 26,
   "metadata": {},
   "outputs": [
    {
     "data": {
      "text/plain": [
       "1.0"
      ]
     },
     "execution_count": 26,
     "metadata": {},
     "output_type": "execute_result"
    }
   ],
   "source": [
    "max(selectivity_indexes)"
   ]
  },
  {
   "cell_type": "code",
   "execution_count": 27,
   "metadata": {},
   "outputs": [
    {
     "data": {
      "text/html": [
       "<svg  width=\"550\" height=\"55\"><rect x=\"0\" y=\"0\" width=\"55\" height=\"55\" style=\"fill:#1f77b4;stroke-width:2;stroke:rgb(255,255,255)\"/><rect x=\"55\" y=\"0\" width=\"55\" height=\"55\" style=\"fill:#ff7f0e;stroke-width:2;stroke:rgb(255,255,255)\"/><rect x=\"110\" y=\"0\" width=\"55\" height=\"55\" style=\"fill:#2ca02c;stroke-width:2;stroke:rgb(255,255,255)\"/><rect x=\"165\" y=\"0\" width=\"55\" height=\"55\" style=\"fill:#d62728;stroke-width:2;stroke:rgb(255,255,255)\"/><rect x=\"220\" y=\"0\" width=\"55\" height=\"55\" style=\"fill:#9467bd;stroke-width:2;stroke:rgb(255,255,255)\"/><rect x=\"275\" y=\"0\" width=\"55\" height=\"55\" style=\"fill:#8c564b;stroke-width:2;stroke:rgb(255,255,255)\"/><rect x=\"330\" y=\"0\" width=\"55\" height=\"55\" style=\"fill:#e377c2;stroke-width:2;stroke:rgb(255,255,255)\"/><rect x=\"385\" y=\"0\" width=\"55\" height=\"55\" style=\"fill:#7f7f7f;stroke-width:2;stroke:rgb(255,255,255)\"/><rect x=\"440\" y=\"0\" width=\"55\" height=\"55\" style=\"fill:#bcbd22;stroke-width:2;stroke:rgb(255,255,255)\"/><rect x=\"495\" y=\"0\" width=\"55\" height=\"55\" style=\"fill:#17becf;stroke-width:2;stroke:rgb(255,255,255)\"/></svg>"
      ],
      "text/plain": [
       "[(0.12156862745098039, 0.4666666666666667, 0.7058823529411765),\n",
       " (1.0, 0.4980392156862745, 0.054901960784313725),\n",
       " (0.17254901960784313, 0.6274509803921569, 0.17254901960784313),\n",
       " (0.8392156862745098, 0.15294117647058825, 0.1568627450980392),\n",
       " (0.5803921568627451, 0.403921568627451, 0.7411764705882353),\n",
       " (0.5490196078431373, 0.33725490196078434, 0.29411764705882354),\n",
       " (0.8901960784313725, 0.4666666666666667, 0.7607843137254902),\n",
       " (0.4980392156862745, 0.4980392156862745, 0.4980392156862745),\n",
       " (0.7372549019607844, 0.7411764705882353, 0.13333333333333333),\n",
       " (0.09019607843137255, 0.7450980392156863, 0.8117647058823529)]"
      ]
     },
     "execution_count": 27,
     "metadata": {},
     "output_type": "execute_result"
    }
   ],
   "source": [
    "sb_colors = sb.color_palette()\n",
    "sb.color_palette()"
   ]
  },
  {
   "cell_type": "code",
   "execution_count": 28,
   "metadata": {},
   "outputs": [
    {
     "data": {
      "image/png": "[encoded data removed]",
      "text/plain": [
       "<Figure size 360x504 with 2 Axes>"
      ]
     },
     "metadata": {},
     "output_type": "display_data"
    }
   ],
   "source": [
    "# fig, axs = plt.subplots(2, 1, figsize=(5, 8))\n",
    "plt.rcParams.update({'font.family': 'Arial'})\n",
    "\n",
    "fig = plt.figure(constrained_layout=False, figsize=(5, 7))\n",
    "gs = GridSpec(2, 1, figure=fig, height_ratios=[4, 1])\n",
    "ax_scatter = fig.add_subplot(gs[0])\n",
    "ax_dist = fig.add_subplot(gs[1], sharex=ax_scatter)\n",
    "\n",
    "\n",
    "ax_scatter.scatter(selectivity_indexes[visually_responsive_neurons], relat_depth[relat_depth_sorted_idxs][visually_responsive_neurons], facecolors='none', edgecolors='k')\n",
    "# ax_scatter.xlim(-1.2, 1.2)\n",
    "ax_scatter.set(ylim=[-750, 300], ylabel=r'Depth from bottom of SO ($\\mu m$)')\n",
    "ax_scatter.axhline(c='k', alpha=0.5)\n",
    "ax_scatter.set_title('Selectivity \\nExpanding (1) vs White expanding (-1)')\n",
    "\n",
    "sb.histplot(selectivity_indexes[visually_responsive_neurons][relat_depth[relat_depth_sorted_idxs][visually_responsive_neurons]>=0], ax=ax_dist, color=sb_colors[0], alpha=0.7, stat='probability', label='sSC')\n",
    "sb.histplot(selectivity_indexes[visually_responsive_neurons][relat_depth[relat_depth_sorted_idxs][visually_responsive_neurons]<0], ax=ax_dist, color=sb_colors[3], alpha=0.7, stat='probability', label='dSC')\n",
    "# ax_scatter.set_xticklabels([])\n",
    "ax_dist.legend(loc='upper left', bbox_to_anchor=(1, 1), borderpad=0, labelspacing=0.1, frameon=False, ncol=1)\n",
    "plt.tight_layout()\n",
    "plt.savefig('selectivity_EXPAEXPW_inclGRP.png', dpi=150)\n",
    "# ax_dist.legend()\n",
    "plt.show()"
   ]
  },
  {
   "cell_type": "code",
   "execution_count": 505,
   "metadata": {},
   "outputs": [
    {
     "data": {
      "text/plain": [
       "<matplotlib.axes._subplots.AxesSubplot at 0x1a820d79208>"
      ]
     },
     "execution_count": 505,
     "metadata": {},
     "output_type": "execute_result"
    },
    {
     "data": {
      "image/png": "[encoded data removed]",
      "text/plain": [
       "<Figure size 432x288 with 2 Axes>"
      ]
     },
     "metadata": {},
     "output_type": "display_data"
    }
   ],
   "source": [
    "sb.heatmap(A[visually_responsive_neurons])"
   ]
  },
  {
   "cell_type": "code",
   "execution_count": 507,
   "metadata": {},
   "outputs": [
    {
     "data": {
      "text/plain": [
       "<matplotlib.axes._subplots.AxesSubplot at 0x1a8218eaf08>"
      ]
     },
     "execution_count": 507,
     "metadata": {},
     "output_type": "execute_result"
    },
    {
     "data": {
      "image/png": "[encoded data removed]",
      "text/plain": [
       "<Figure size 432x288 with 2 Axes>"
      ]
     },
     "metadata": {},
     "output_type": "display_data"
    }
   ],
   "source": [
    "sb.heatmap(B[visually_responsive_neurons])"
   ]
  },
  {
   "cell_type": "code",
   "execution_count": 321,
   "metadata": {},
   "outputs": [
    {
     "data": {
      "text/plain": [
       "10.0"
      ]
     },
     "execution_count": 321,
     "metadata": {},
     "output_type": "execute_result"
    }
   ],
   "source": [
    "np.sum(EXPA_fr[0][175] + DIMM_fr[0][175])"
   ]
  },
  {
   "cell_type": "code",
   "execution_count": 294,
   "metadata": {},
   "outputs": [
    {
     "data": {
      "text/plain": [
       "[<matplotlib.lines.Line2D at 0x1a8208c66c8>]"
      ]
     },
     "execution_count": 294,
     "metadata": {},
     "output_type": "execute_result"
    },
    {
     "data": {
      "image/png": "[encoded data removed]",
      "text/plain": [
       "<Figure size 432x288 with 1 Axes>"
      ]
     },
     "metadata": {},
     "output_type": "display_data"
    }
   ],
   "source": [
    "plt.plot(DIMM_fr[0][175])"
   ]
  },
  {
   "cell_type": "code",
   "execution_count": 295,
   "metadata": {},
   "outputs": [
    {
     "data": {
      "text/plain": [
       "[<matplotlib.lines.Line2D at 0x1a8219d5648>]"
      ]
     },
     "execution_count": 295,
     "metadata": {},
     "output_type": "execute_result"
    },
    {
     "data": {
      "image/png": "[encoded data removed]",
      "text/plain": [
       "<Figure size 432x288 with 1 Axes>"
      ]
     },
     "metadata": {},
     "output_type": "display_data"
    }
   ],
   "source": [
    "plt.plot(EXPA_fr[0][175])"
   ]
  },
  {
   "cell_type": "code",
   "execution_count": null,
   "metadata": {},
   "outputs": [],
   "source": []
  }
 ],
 "metadata": {
  "kernelspec": {
   "display_name": "Python 3",
   "language": "python",
   "name": "python3"
  },
  "language_info": {
   "codemirror_mode": {
    "name": "ipython",
    "version": 3
   },
   "file_extension": ".py",
   "mimetype": "text/x-python",
   "name": "python",
   "nbconvert_exporter": "python",
   "pygments_lexer": "ipython3",
   "version": "3.7.6"
  }
 },
 "nbformat": 4,
 "nbformat_minor": 4
}
